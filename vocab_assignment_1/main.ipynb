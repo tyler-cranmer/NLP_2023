{
 "cells": [
  {
   "cell_type": "code",
   "execution_count": 3,
   "id": "rotary-drilling",
   "metadata": {},
   "outputs": [],
   "source": [
    "import os\n",
    "import re\n",
    "from docx import Document\n",
    "from typing import List\n",
    "import nltk\n",
    "from nltk.tokenize import word_tokenize\n",
    "from nltk.stem import WordNetLemmatizer\n",
    "from string import punctuation"
   ]
  },
  {
   "cell_type": "code",
   "execution_count": 4,
   "id": "absolute-blackberry",
   "metadata": {},
   "outputs": [],
   "source": [
    "def extract_words(file_path: str) -> str:\n",
    "    doc = Document(file_path)\n",
    "    fullText = []\n",
    "    for para in doc.paragraphs:\n",
    "        fullText.append(para.text)\n",
    "    return ' '.join(fullText)\n",
    "\n",
    "def main() -> None:\n",
    "    unique_words_doc = set()\n",
    "    total_words = 0\n",
    "    count = 0\n",
    "    lemmatizer = WordNetLemmatizer()\n",
    "    for foldername, subfolders, filenames in os.walk('/Users/tylercranmer/Documents'):\n",
    "        for filename in filenames:\n",
    "            if filename.endswith('.docx'):\n",
    "                count += 1\n",
    "                try:\n",
    "                    words = extract_words(os.path.join(foldername, filename))\n",
    "                    w = re.sub(r'[^-\\w\\s]+', '', words)\n",
    "                    tokens = word_tokenize(w)\n",
    "                    lower_tokens = [token.lower() for token in tokens]\n",
    "                    filtered_tokens = [token for token in lower_tokens if token not in punctuation]\n",
    "                    lem_tokens = [lemmatizer.lemmatize(token) for token in filtered_tokens]\n",
    "                    total_words += len(lem_tokens)\n",
    "                    unique_words_doc.update(lem_tokens)\n",
    "                except:\n",
    "                     print(\"error reading: \", filename)\n",
    "\n",
    "    print(\"number of unique words: \", len(unique_words_doc))\n",
    "    print(\"number of documents read: \", count)\n",
    "    print(\"total amount of words: \", total_words)\n",
    "    print(\"average number of words per document: \", total_words / count)"
   ]
  },
  {
   "cell_type": "code",
   "execution_count": 5,
   "id": "10f06e3e-d3d6-4b32-aca0-f8a7dff49f82",
   "metadata": {},
   "outputs": [
    {
     "name": "stdout",
     "output_type": "stream",
     "text": [
      "number of unique words:  5998\n",
      "number of documents read:  132\n",
      "total amount of words:  64040\n",
      "average number of words per document:  485.1515151515151\n"
     ]
    }
   ],
   "source": [
    "main()"
   ]
  }
 ],
 "metadata": {
  "kernelspec": {
   "display_name": "Python 3 (ipykernel)",
   "language": "python",
   "name": "python3"
  },
  "language_info": {
   "codemirror_mode": {
    "name": "ipython",
    "version": 3
   },
   "file_extension": ".py",
   "mimetype": "text/x-python",
   "name": "python",
   "nbconvert_exporter": "python",
   "pygments_lexer": "ipython3",
   "version": "3.8.13"
  }
 },
 "nbformat": 4,
 "nbformat_minor": 5
}
