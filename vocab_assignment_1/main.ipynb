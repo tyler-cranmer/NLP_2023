{
 "cells": [
  {
   "cell_type": "code",
   "execution_count": 1,
   "id": "rotary-drilling",
   "metadata": {},
   "outputs": [],
   "source": [
    "import os\n",
    "import re\n",
    "from docx import Document\n",
    "from typing import List\n",
    "import nltk\n",
    "from nltk.tokenize import word_tokenize\n",
    "from nltk.stem import WordNetLemmatizer\n",
    "from string import punctuation"
   ]
  },
  {
   "cell_type": "code",
   "execution_count": 29,
   "id": "absolute-blackberry",
   "metadata": {},
   "outputs": [],
   "source": [
    "def extract_words(file_path: str) -> str:\n",
    "    doc = Document(file_path)\n",
    "    fullText = []\n",
    "    for para in doc.paragraphs:\n",
    "        fullText.append(para.text)\n",
    "    return ' '.join(fullText)\n",
    "\n",
    "def main() -> None:\n",
    "    unique_words_doc = set()\n",
    "    total_words = 0\n",
    "    count = 0\n",
    "    for foldername, subfolders, filenames in os.walk('/Users/tylercranmer/Documents'):\n",
    "        for filename in filenames:\n",
    "            if filename.endswith(('.doc', '.docx')):\n",
    "                count += 1\n",
    "                try:\n",
    "                    words = extract_words(os.path.join(foldername, filename))\n",
    "                    w = re.sub(r'[^-\\w\\s]+', '', words)\n",
    "                    tokens = word_tokenize(w)\n",
    "                    lower_tokens = [token.lower() for token in tokens]\n",
    "                    filtered_tokens = [token for token in lower_tokens if token not in punctuation]\n",
    "                    total_words += len(filtered_tokens)\n",
    "                    unique_words_doc.update(filtered_tokens)\n",
    "                except:\n",
    "                     print(\"error reading: \", filename)\n",
    "                \n",
    "\n",
    "    print(\"number of unique words: \", len(unique_words_doc))\n",
    "    print(\"number of documents read: \", count)\n",
    "    print(\"total amount of words: \", total_words)\n",
    "    print(\"average number of words per document: \", total_words / count)"
   ]
  },
  {
   "cell_type": "code",
   "execution_count": 30,
   "id": "10f06e3e-d3d6-4b32-aca0-f8a7dff49f82",
   "metadata": {},
   "outputs": [
    {
     "name": "stdout",
     "output_type": "stream",
     "text": [
      "number of unique words:  10514\n",
      "number of documents read:  258\n",
      "total amount of words:  143706\n",
      "average number of words per document:  557.0\n"
     ]
    }
   ],
   "source": [
    "main()"
   ]
  },
  {
   "cell_type": "code",
   "execution_count": null,
   "id": "70e5910a-3c7d-4fb6-9f53-1a1e63a0e4d2",
   "metadata": {},
   "outputs": [],
   "source": []
  }
 ],
 "metadata": {
  "kernelspec": {
   "display_name": "Python 3 (ipykernel)",
   "language": "python",
   "name": "python3"
  },
  "language_info": {
   "codemirror_mode": {
    "name": "ipython",
    "version": 3
   },
   "file_extension": ".py",
   "mimetype": "text/x-python",
   "name": "python",
   "nbconvert_exporter": "python",
   "pygments_lexer": "ipython3",
   "version": "3.8.13"
  }
 },
 "nbformat": 4,
 "nbformat_minor": 5
}
