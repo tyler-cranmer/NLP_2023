{
 "cells": [
  {
   "cell_type": "code",
   "execution_count": 1,
   "id": "b51ec9a8-31bf-4024-ac19-6178c96a4214",
   "metadata": {},
   "outputs": [],
   "source": [
    "import pandas as pd\n",
    "import re\n",
    "from lemminflect import getInflection, getAllInflections\n",
    "from nltk.corpus import names\n",
    "from nltk.stem import WordNetLemmatizer"
   ]
  },
  {
   "cell_type": "code",
   "execution_count": 7,
   "id": "158daf96-bb2b-450a-b130-7127c8999834",
   "metadata": {},
   "outputs": [],
   "source": [
    "with open('/Users/tylercranmer/Dev/CSCI/Grad/NLP/NLP_2023/bert_vocab/words_alpha.txt', 'r') as file:\n",
    "    dictionary = [line.strip() for line in file]"
   ]
  },
  {
   "cell_type": "code",
   "execution_count": 8,
   "id": "6384e05a-3307-441b-a17a-3dc47799f4ee",
   "metadata": {},
   "outputs": [],
   "source": [
    "with open('/Users/tylercranmer/Dev/CSCI/Grad/NLP/NLP_2023/bert_vocab/BERT-vocab.txt') as file:\n",
    "    burt_vocab = [line.strip() for line in file]"
   ]
  },
  {
   "cell_type": "code",
   "execution_count": 34,
   "id": "90981b08-9872-4ddc-a98b-26103740880d",
   "metadata": {},
   "outputs": [
    {
     "name": "stdout",
     "output_type": "stream",
     "text": [
      "length of 30522\n"
     ]
    }
   ],
   "source": [
    "print(f\"length of {len(burt_vocab)}\")"
   ]
  },
  {
   "cell_type": "code",
   "execution_count": 9,
   "id": "3f84a4eb-a5c6-4ca3-8e6e-fb65fa0e0f80",
   "metadata": {},
   "outputs": [],
   "source": [
    "remove_brackets = [word for word in burt_vocab if not re.search(r'^\\[', word)]"
   ]
  },
  {
   "cell_type": "code",
   "execution_count": 10,
   "id": "a3009f64-8d06-41fa-9c2b-72344b5f2394",
   "metadata": {},
   "outputs": [
    {
     "name": "stdout",
     "output_type": "stream",
     "text": [
      "1000 words removed.\n",
      "Current total 29522\n"
     ]
    }
   ],
   "source": [
    "rb_len = len(remove_brackets)\n",
    "total = len(burt_vocab)\n",
    "print(f\"{total - rb_len} words removed.\\nCurrent total {rb_len}\")"
   ]
  },
  {
   "cell_type": "code",
   "execution_count": 35,
   "id": "5979750a-f3ea-48bc-aca8-b51ed4c7a578",
   "metadata": {},
   "outputs": [],
   "source": [
    "remove_single_char = [word for word in remove_brackets if not re.search(r'^.$', word)]"
   ]
  },
  {
   "cell_type": "code",
   "execution_count": 36,
   "id": "97ab65e4-48db-45fa-8670-31b8488ad881",
   "metadata": {},
   "outputs": [
    {
     "name": "stdout",
     "output_type": "stream",
     "text": [
      "996 words removed.\n",
      "Current total 28526\n"
     ]
    }
   ],
   "source": [
    "rsc_len = len(remove_single_char)\n",
    "print(f\"{rb_len - rsc_len} words removed.\\nCurrent total {rsc_len}\")"
   ]
  },
  {
   "cell_type": "code",
   "execution_count": 37,
   "id": "44fc603c-c230-4ce0-91c5-abff07d80b38",
   "metadata": {},
   "outputs": [],
   "source": [
    "remove_pound_char = [word for word in remove_single_char if not re.search(r'^##', word)]"
   ]
  },
  {
   "cell_type": "code",
   "execution_count": 38,
   "id": "1c7dc9d2-15f5-49df-9844-fd847b09e7a5",
   "metadata": {},
   "outputs": [
    {
     "name": "stdout",
     "output_type": "stream",
     "text": [
      "5828 words removed.\n",
      "Current total 22698\n"
     ]
    }
   ],
   "source": [
    "rpc_len = len(remove_pound_char)\n",
    "print(f\"{rsc_len - rpc_len} words removed.\\nCurrent total {rpc_len}\" )"
   ]
  },
  {
   "cell_type": "code",
   "execution_count": 15,
   "id": "4ff28ea6-2591-4077-be16-d1d5ba471123",
   "metadata": {},
   "outputs": [],
   "source": [
    "remove_num = [word for word in remove_pound_char if not re.search(r'[0-9]+', word)]"
   ]
  },
  {
   "cell_type": "code",
   "execution_count": 16,
   "id": "704b1e5e-7881-4037-8a76-e70df6cfe051",
   "metadata": {},
   "outputs": [
    {
     "name": "stdout",
     "output_type": "stream",
     "text": [
      "967 words removed.\n",
      "Current total 21731\n"
     ]
    }
   ],
   "source": [
    "rm_len = len(remove_num)\n",
    "print(f\"{rpc_len - rm_len} words removed.\\nCurrent total {rm_len}\")"
   ]
  },
  {
   "cell_type": "code",
   "execution_count": 48,
   "id": "c3ad14a2-cbd9-45b0-bcef-786061d8a4c4",
   "metadata": {},
   "outputs": [],
   "source": [
    "words_with_vowels = [word for word in remove_num if not re.search(r\"\\b[^aeiouy\\s]+\\b\", word)]"
   ]
  },
  {
   "cell_type": "code",
   "execution_count": 46,
   "id": "c3f232fb-406c-4d3a-b68d-f4a8123485b2",
   "metadata": {},
   "outputs": [],
   "source": [
    "words_without_vowels = [word for word in remove_num if re.search(r\"\\b[^aeiouy\\s]+\\b\", word)]"
   ]
  },
  {
   "cell_type": "code",
   "execution_count": 49,
   "id": "80048744-7aa4-4c5d-9ebd-f2ec0cfbad4b",
   "metadata": {},
   "outputs": [
    {
     "name": "stdout",
     "output_type": "stream",
     "text": [
      "269 words removed.\n",
      "Current total 21462\n"
     ]
    }
   ],
   "source": [
    "wwv_len = len(words_with_vowels)\n",
    "print(f\"{rm_len - wwv_len} words removed.\\nCurrent total {wwv_len}\")"
   ]
  },
  {
   "cell_type": "code",
   "execution_count": 50,
   "id": "8ce846dd-e145-4490-920e-b794ee6a0332",
   "metadata": {},
   "outputs": [],
   "source": [
    "inflections = []\n",
    "for w in words_with_vowels:\n",
    "    inflection_dic = getAllInflections(w)\n",
    "    for inflection_values in inflection_dic.values():\n",
    "        for inf_value in inflection_values:\n",
    "            if w != inf_value and inf_value in words_with_vowels:\n",
    "                inflections.append(inf_value)"
   ]
  },
  {
   "cell_type": "code",
   "execution_count": 51,
   "id": "8ab1ef2b-b63f-4d58-9e39-33c68860d4ea",
   "metadata": {},
   "outputs": [],
   "source": [
    "no_inflections = [word for word in words_with_vowels if word not in inflections]"
   ]
  },
  {
   "cell_type": "code",
   "execution_count": 21,
   "id": "2c30f630-a428-48be-94c6-5cd3dac2d349",
   "metadata": {},
   "outputs": [
    {
     "name": "stdout",
     "output_type": "stream",
     "text": [
      "5837 words removed.\n",
      "Current total 15625\n"
     ]
    }
   ],
   "source": [
    "no_inf_len = len(no_inflections)\n",
    "print(f\"{wwv_len - no_inf_len} words removed.\\nCurrent total {no_inf_len}\")"
   ]
  },
  {
   "cell_type": "code",
   "execution_count": 22,
   "id": "555f28fb-f32c-49e5-b18b-449539c4b943",
   "metadata": {},
   "outputs": [
    {
     "name": "stdout",
     "output_type": "stream",
     "text": [
      "6 words removed.\n",
      "Current total 15619\n"
     ]
    }
   ],
   "source": [
    "no_contraction = [word for word in no_inflections if word[-2:] != 'dn' and word[-2] != 'sn']\n",
    "no_nd_len = len(no_contraction)\n",
    "print(f\"{no_inf_len - no_nd_len} words removed.\\nCurrent total {no_nd_len}\")"
   ]
  },
  {
   "cell_type": "code",
   "execution_count": 23,
   "id": "3311a58d-0757-4c70-af48-52a86ab810f4",
   "metadata": {},
   "outputs": [],
   "source": [
    "male_names = names.words('male.txt')\n",
    "female_names = names.words('female.txt')\n",
    "male_names = [name.lower() for name in male_names]\n",
    "female_names = [name.lower() for name in female_names]"
   ]
  },
  {
   "cell_type": "code",
   "execution_count": 24,
   "id": "229b6313-715a-4961-9c16-3d2eec50f617",
   "metadata": {},
   "outputs": [
    {
     "name": "stdout",
     "output_type": "stream",
     "text": [
      "1477 words removed.\n",
      "Current total 14142\n"
     ]
    }
   ],
   "source": [
    "no_males = [word for word in no_contraction if word not in male_names]\n",
    "print(f\"{no_nd_len - len(no_males)} words removed.\\nCurrent total {len(no_males)}\")"
   ]
  },
  {
   "cell_type": "code",
   "execution_count": 25,
   "id": "cd7cd4c4-c38b-486b-8a51-0fb5f444c18f",
   "metadata": {},
   "outputs": [
    {
     "name": "stdout",
     "output_type": "stream",
     "text": [
      "680 words removed.\n",
      "Current total 13462\n"
     ]
    }
   ],
   "source": [
    "no_females = [word for word in no_males if word not in female_names]\n",
    "print(f\"{len(no_males) - len(no_females)} words removed.\\nCurrent total {len(no_females)}\")"
   ]
  },
  {
   "cell_type": "code",
   "execution_count": 26,
   "id": "ae03affb-a367-4117-a580-24f267b2ae7a",
   "metadata": {},
   "outputs": [
    {
     "name": "stdout",
     "output_type": "stream",
     "text": [
      "130 words removed.\n",
      "Current total 13332\n"
     ]
    }
   ],
   "source": [
    "no_lly = [word for word in no_females if not re.search(r\"(lly)$\", word) ]\n",
    "print(f\"{len(no_females) - len(no_lly)} words removed.\\nCurrent total {len(no_lly)}\")"
   ]
  },
  {
   "cell_type": "code",
   "execution_count": 27,
   "id": "17264224-04c1-4f66-8586-072d4f5d32ba",
   "metadata": {},
   "outputs": [
    {
     "name": "stdout",
     "output_type": "stream",
     "text": [
      "1427 words removed.\n",
      "Final total 11905\n"
     ]
    }
   ],
   "source": [
    "final_list = [word for word in no_lly if word in dictionary]\n",
    "print(f\"{len(no_lly) - len(final_list)} words removed.\\nFinal total {len(final_list)}\")"
   ]
  },
  {
   "cell_type": "code",
   "execution_count": 28,
   "id": "75b5de95-f62a-417f-963f-2c8a090913df",
   "metadata": {},
   "outputs": [],
   "source": [
    "non_dic_words = [word for word in no_lly if word not in dictionary]"
   ]
  },
  {
   "cell_type": "code",
   "execution_count": 29,
   "id": "ce2a5976-4edf-4b30-b521-a696408f3c7f",
   "metadata": {},
   "outputs": [],
   "source": [
    "lemmatizer = WordNetLemmatizer()"
   ]
  },
  {
   "cell_type": "code",
   "execution_count": 30,
   "id": "2082e0ce-d27d-4bbf-b9f5-e12ba6ef623c",
   "metadata": {},
   "outputs": [],
   "source": [
    "lem_words = [lemmatizer.lemmatize(word) for word in final_list]\n",
    "lem_words = list(set(lem_words))"
   ]
  },
  {
   "cell_type": "code",
   "execution_count": 31,
   "id": "4554fbee-7411-45e0-9cd4-2f04e1e26fea",
   "metadata": {},
   "outputs": [
    {
     "data": {
      "text/plain": [
       "11790"
      ]
     },
     "execution_count": 31,
     "metadata": {},
     "output_type": "execute_result"
    }
   ],
   "source": [
    "len(lem_words)"
   ]
  }
 ],
 "metadata": {
  "kernelspec": {
   "display_name": "Python 3 (ipykernel)",
   "language": "python",
   "name": "python3"
  },
  "language_info": {
   "codemirror_mode": {
    "name": "ipython",
    "version": 3
   },
   "file_extension": ".py",
   "mimetype": "text/x-python",
   "name": "python",
   "nbconvert_exporter": "python",
   "pygments_lexer": "ipython3",
   "version": "3.8.13"
  }
 },
 "nbformat": 4,
 "nbformat_minor": 5
}
