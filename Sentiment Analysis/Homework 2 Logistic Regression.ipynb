{
 "cells": [
  {
   "cell_type": "markdown",
   "metadata": {},
   "source": [
    "# Assignment 2: Sentiment Classification Using Logistic Regression"
   ]
  },
  {
   "cell_type": "markdown",
   "metadata": {},
   "source": [
    "## Programming Assignment (100 Points scaled to 40)"
   ]
  },
  {
   "cell_type": "markdown",
   "metadata": {},
   "source": [
    "For this assignment we will be implementing a naive bayes baseline classifier. Additionally, we will be using pytorch to implement a binary logistic regression classifier. Our task is sentiment classification for hotel reviews. The input to your model will be a text review, and the output label is a 1 or 0 marking it as positive or negative."
   ]
  },
  {
   "cell_type": "markdown",
   "metadata": {},
   "source": [
    "We have provided a util.py file for loading the data, and some of the basic modeling. Your task is to fill in the functions below in order to train as accurate a classifier as possible!\n",
    "\n",
    "We suggest browsing the util.py script first. Additionally, make sure to install dependencies from the provided requirements.txt file in a similar fashion to the pytorch tutorial. With your environment activated int he terminal, run:\n",
    "```\n",
    "pip install -r requirements.txt\n",
    "```"
   ]
  },
  {
   "cell_type": "code",
   "execution_count": 1,
   "metadata": {},
   "outputs": [
    {
     "name": "stderr",
     "output_type": "stream",
     "text": [
      "/var/folders/8l/21c6qx3d1kx_wxpsc0n2_qdw0000gn/T/ipykernel_7621/3073619413.py:12: TqdmExperimentalWarning: Using `tqdm.autonotebook.tqdm` in notebook mode. Use `tqdm.tqdm` instead to force console mode (e.g. in jupyter console)\n",
      "  from tqdm.autonotebook import tqdm\n"
     ]
    }
   ],
   "source": [
    "from typing import List\n",
    "import spacy\n",
    "import torch\n",
    "import random\n",
    "import pandas as pd\n",
    "import matplotlib.pyplot as plt\n",
    "import seaborn as sns\n",
    "from collections import Counter\n",
    "from sklearn.model_selection import train_test_split\n",
    "import numpy as np\n",
    "import math\n",
    "from tqdm.autonotebook import tqdm"
   ]
  },
  {
   "cell_type": "markdown",
   "metadata": {},
   "source": [
    "## Section 1: Sentiment Classification Dataset (Total: 20 Points)\n",
    "\n",
    "The training data for this task consists of a collection of short hotel reviews. The data is formatted as one review per line. Each line starts with a unique identifier for the review (as in ID-2001) followed by tab and the text of the review.  The reviews are not tokenized or sentence segmented in any way (the words are space separated). The positive reviews and negative reviews appear in separate files namely [hotelPosT-train.txt](data/hotelPosT-train.txt) and [hotelNegT-train.txt](data/hotelNegT-train.txt)."
   ]
  },
  {
   "cell_type": "code",
   "execution_count": 2,
   "metadata": {},
   "outputs": [],
   "source": [
    "from util import load_train_data\n",
    "pos_datapath = \"data/hotelPosT-train.txt\"\n",
    "neg_datapath = \"data/hotelNegT-train.txt\"\n",
    "all_texts, all_labels = load_train_data(pos_datapath, neg_datapath)"
   ]
  },
  {
   "cell_type": "markdown",
   "metadata": {},
   "source": [
    "### Lets look at what is in the data"
   ]
  },
  {
   "cell_type": "code",
   "execution_count": 3,
   "metadata": {},
   "outputs": [
    {
     "name": "stdout",
     "output_type": "stream",
     "text": [
      "--- Positive Example ---\n",
      "This hotel was a very nice and affordable stay. The beds were comfortable and it had cable. The shower worked great, and the continental breakfast included a nice variety of foods. I would definitely stay here again.\n",
      "\n",
      "--- Negative Example ---\n",
      "We stayed at the Days in on 39th in Brooklyn for about 5 days in December. My daughter needed to find a place to live and register for school. This was the cheapest hotel we could find in Brooklyn. We thought it would be really bad but it was actually worse. There were bed bugs and we brought them home with us. eeeeeek! The staff were very helpful when we needed to get a cab. There was a free buffet breakfast. It was edible and the coffee was great. For the money it would have been fine but getting rid of the bed bugs was a nightmare.\n"
     ]
    }
   ],
   "source": [
    "def random_sample(texts, labels, label):\n",
    "    data_by_label = {}\n",
    "    for lab, text in zip(labels, texts):\n",
    "        if lab not in data_by_label:\n",
    "            data_by_label[lab] = []\n",
    "        data_by_label[lab].append(text)\n",
    "    return random.choice(data_by_label[label])\n",
    "\n",
    "print(\"--- Positive Example ---\")\n",
    "print(random_sample(all_texts, all_labels, label=1))\n",
    "print(\"\\n--- Negative Example ---\")\n",
    "print(random_sample(all_texts, all_labels, label=0))"
   ]
  },
  {
   "cell_type": "markdown",
   "metadata": {},
   "source": [
    "### Test Data ( WAIT TILL DEADLINE)\n",
    "\n",
    "This is the test dataset that you will need to use to report the results on. This set is the unseen dataset meaning, you are not in anyway supoose to look what is in this dataset. We will release this dataset on the last day of the assignment's deadline."
   ]
  },
  {
   "cell_type": "code",
   "execution_count": 4,
   "metadata": {},
   "outputs": [],
   "source": [
    "# ### RUN THIS ONLY ON DEADLINE ###\n",
    "# # Load the test data\n",
    "\n",
    "# from util import load_test_data\n",
    "\n",
    "# # FIXME\n",
    "# test_datapath = \"data/test-dataset.txt\"\n",
    "# test_texts, test_labels = load_train_data(test_datapath)\n",
    "\n",
    "from typing import List, Tuple, Any\n",
    "\n",
    "\n",
    "def load_test_data(filepath: str) -> Tuple[List[Any], List[Any]]:\n",
    "    \"\"\"Load the test data, producing a List of texts, labels\n",
    "\n",
    "    Args:\n",
    "        filepath (str): Path to the training file\n",
    "\n",
    "    Returns:\n",
    "        Tuple[List[Any], List[Any]]: The texts and labels\n",
    "    \"\"\"\n",
    "    lab_map = {'POS': 1, 'NEG': 0}\n",
    "    texts = []\n",
    "    labels = []\n",
    "    with open(filepath, \"r\") as file:\n",
    "        for line in file:\n",
    "            idx, text, label = line.rstrip().split(\"\\t\")\n",
    "            texts.append(text)\n",
    "            labels.append(lab_map[label])\n",
    "\n",
    "    return texts, labels\n",
    "\n",
    "\n",
    "test_texts, test_labels = load_test_data('./data/HW2-testset.txt')"
   ]
  },
  {
   "cell_type": "markdown",
   "metadata": {},
   "source": [
    "### Task 1.1: Print the number of \"positive\" and \"negative\" samples (5 Points)"
   ]
  },
  {
   "cell_type": "markdown",
   "metadata": {},
   "source": [
    "It is important to know the distribution of the training examples. More often than not, you will have to work with datasets that are not \"balanced\" with respect to the labels of the samples. For this task, print out the number of examples that have label = 1 and label = 0, respectively, in std:out or plot a pie chart."
   ]
  },
  {
   "cell_type": "code",
   "execution_count": 6,
   "metadata": {
    "scrolled": true
   },
   "outputs": [],
   "source": [
    "### ENTER CODE HERE ###\n",
    "\n",
    "# Note since we have them in two seperate files, \n",
    "# this can also be done with bash commands\n",
    "\n",
    "def label_distribution(labels):\n",
    "    c = Counter(labels)\n",
    "    v = list(c.values())\n",
    "    k = list(c.keys())\n",
    "    colors = sns.color_palette('pastel')\n",
    "    plt.pie(v, labels= k, colors = colors, autopct='%.0f%%')\n",
    "    plt.show();\n",
    "    print(c)\n"
   ]
  },
  {
   "cell_type": "markdown",
   "metadata": {},
   "source": [
    "### Task 1.2: Split Training and Development Sets (5 Points)"
   ]
  },
  {
   "cell_type": "markdown",
   "metadata": {},
   "source": [
    "For the purpose of coming with the best parameters for the model you will have to split the dataset into training and development sets. Make sure the splits follow the same distribution."
   ]
  },
  {
   "cell_type": "code",
   "execution_count": 7,
   "metadata": {},
   "outputs": [
    {
     "name": "stdout",
     "output_type": "stream",
     "text": [
      "Train Label Distribution:\n"
     ]
    },
    {
     "data": {
      "image/png": "[encoded data removed]",
      "text/plain": [
       "<Figure size 640x480 with 1 Axes>"
      ]
     },
     "metadata": {},
     "output_type": "display_data"
    },
    {
     "name": "stdout",
     "output_type": "stream",
     "text": [
      "Counter({1: 76, 0: 75})\n",
      "Dev Label Distribution:\n"
     ]
    },
    {
     "data": {
      "image/png": "[encoded data removed]",
      "text/plain": [
       "<Figure size 640x480 with 1 Axes>"
      ]
     },
     "metadata": {},
     "output_type": "display_data"
    },
    {
     "name": "stdout",
     "output_type": "stream",
     "text": [
      "Counter({0: 19, 1: 19})\n"
     ]
    }
   ],
   "source": [
    "### ENTER CODE HERE ###\n",
    "\n",
    "def split_dataset(texts, labels):\n",
    "    \"\"\"\n",
    "    Split the dataset randomly into 80% training and 20% development set\n",
    "    Make sure the splits have the same label distribution\n",
    "    \"\"\"\n",
    "    z = zip(texts, labels)\n",
    "    df = pd.DataFrame(z, columns=['review', 'label'])\n",
    "    X = df['review']\n",
    "    y = df['label']\n",
    "    X_train, X_test, y_train, y_test = train_test_split(X, y, test_size=0.2, random_state=69)\n",
    "    return list(X_train), list(y_train), list(X_test), list(y_test)\n",
    "    \n",
    "train_texts, train_labels, dev_texts, dev_labels = split_dataset(all_texts, all_labels)\n",
    "\n",
    "print('Train Label Distribution:')\n",
    "label_distribution(train_labels)\n",
    "\n",
    "print('Dev Label Distribution:')\n",
    "label_distribution(dev_labels)"
   ]
  },
  {
   "cell_type": "markdown",
   "metadata": {},
   "source": [
    "### Task 1.3: Evaluation Metrics (10 Points)\n",
    "\n",
    "Implement the evaulation metrics: Accuracy, Precision, Recall and F1 score"
   ]
  },
  {
   "cell_type": "code",
   "execution_count": 8,
   "metadata": {},
   "outputs": [],
   "source": [
    "### ENTER CODE HERE ###\n",
    "\n",
    "def accuracy(predicted_labels, true_labels):\n",
    "    \n",
    "    \"\"\"\n",
    "    Accuracy is correct predictions / all predicitons\n",
    "    \"\"\"\n",
    "    \n",
    "    true_labels = np.array(true_labels)\n",
    "    predicted_labels = np.array(predicted_labels)\n",
    "    \n",
    "    tp = np.sum((true_labels == 1) & (predicted_labels == 1))\n",
    "    tn = np.sum((true_labels == 0) & (predicted_labels == 0))\n",
    "    fn = np.sum((true_labels == 1) & (predicted_labels == 0))\n",
    "    fp = np.sum((true_labels == 0) & (predicted_labels == 1))\n",
    "    denom = (tp + tn + fn + fp) \n",
    "    return (tp + tn) / denom if denom != 0 else 0.0\n",
    "\n",
    "def precision(predicted_labels, true_labels):\n",
    "    \"\"\"\n",
    "    Precision is True Positives / All Positives Predictions\n",
    "    \"\"\"\n",
    "    true_labels = np.array(true_labels)\n",
    "    predicted_labels = np.array(predicted_labels)\n",
    "    tp = np.sum((true_labels == 1) & (predicted_labels == 1))\n",
    "    fp = np.sum((true_labels == 0) & (predicted_labels == 1))\n",
    "    \n",
    "    denom = (tp + fp) \n",
    "    return tp / denom if denom != 0 else 0.0\n",
    "    \n",
    "\n",
    "def recall(predicted_labels, true_labels):\n",
    "    \"\"\"\n",
    "    Recall is True Positives / All Positive Labels\n",
    "    \"\"\"\n",
    "    true_labels = np.array(true_labels)\n",
    "    predicted_labels = np.array(predicted_labels)\n",
    "    tp = np.sum((true_labels == 1) & (predicted_labels == 1))\n",
    "    fn = np.sum((true_labels == 1) & (predicted_labels == 0))\n",
    "    \n",
    "    denom = (tp + fn) \n",
    "    return tp / denom if denom != 0 else 0.0\n",
    "\n",
    "def f1_score(predicted_labels, true_labels):\n",
    "    \"\"\"\n",
    "    F1 score is the harmonic mean of precision and recall\n",
    "    \"\"\"\n",
    "    \n",
    "    true_labels = np.array(true_labels)\n",
    "    predicted_labels = np.array(predicted_labels)\n",
    "\n",
    "    tp = np.sum((true_labels == 1) & (predicted_labels == 1))\n",
    "    fn = np.sum((true_labels == 1) & (predicted_labels == 0))\n",
    "    fp = np.sum((true_labels == 0) & (predicted_labels == 1))\n",
    "    \n",
    "    \n",
    "    prec = precision(true_labels, predicted_labels)\n",
    "    rec = recall(true_labels, predicted_labels)\n",
    "    denom = (prec + rec)\n",
    "    \n",
    "    return  2 * (prec * rec ) /  denom if denom != 0 else 0.0"
   ]
  },
  {
   "cell_type": "code",
   "execution_count": 9,
   "metadata": {},
   "outputs": [
    {
     "name": "stdout",
     "output_type": "stream",
     "text": [
      "All Test Cases Passed!\n"
     ]
    }
   ],
   "source": [
    "### DO NOT EDIT ###\n",
    "\n",
    "em_test_labels = [0]*6 + [1]*4\n",
    "em_test_predictions = [0]*8 + [1]*2\n",
    "\n",
    "em_test_accuracy = 0.8\n",
    "em_test_precision = 1.0\n",
    "em_test_recall = 0.5\n",
    "em_test_f1 = 2/3\n",
    "\n",
    "assert accuracy(em_test_predictions, em_test_labels) == em_test_accuracy\n",
    "assert precision(em_test_predictions, em_test_labels) == em_test_precision \n",
    "assert recall(em_test_predictions, em_test_labels) == em_test_recall\n",
    "assert f1_score(em_test_predictions, em_test_labels) == em_test_f1\n",
    "\n",
    "print('All Test Cases Passed!')"
   ]
  },
  {
   "cell_type": "markdown",
   "metadata": {},
   "source": [
    "## Section 2: Baselines (Total: 20 Points)"
   ]
  },
  {
   "cell_type": "markdown",
   "metadata": {},
   "source": [
    "It is important to come up with baselines for the classifications to compare the more complicated models with. The baselines are also useful as a debugging method for your actual classfication model. You will create two baselines:\n",
    "\n",
    "1. Random Chance\n",
    "2. Naive Bayes Classifier"
   ]
  },
  {
   "cell_type": "markdown",
   "metadata": {},
   "source": [
    "### Task 2.1: Random Chance Classifier (5 Points)\n",
    "\n",
    "A random chance classifier predicts the label according to the label's distribution. As an example, if the label 1 appears 70% of the times in the training set, you predict 70 out of 100 times the label 1 and label 0 30% of the times"
   ]
  },
  {
   "cell_type": "code",
   "execution_count": 10,
   "metadata": {},
   "outputs": [
    {
     "name": "stdout",
     "output_type": "stream",
     "text": [
      "p1 = 50.33% p0 = 49.67%\n"
     ]
    },
    {
     "data": {
      "text/plain": [
       "[1, 1, 1, 0, 0, 0, 0, 1, 0, 1]"
      ]
     },
     "execution_count": 10,
     "metadata": {},
     "output_type": "execute_result"
    }
   ],
   "source": [
    "### ENTER CODE HERE ###\n",
    "\n",
    "def predict_random(train_labels, num_samples) -> List[int]:\n",
    "    \"\"\"\n",
    "    Using the label distribution, predict the label num_sample number of times\n",
    "    \"\"\"\n",
    "    POSITIVE_LABEL = 1\n",
    "    NEGATIVE_LABEL = 0\n",
    "    label_count = Counter(train_labels)\n",
    "    p1 = label_count[POSITIVE_LABEL] / len(train_labels)\n",
    "    p0 = label_count[NEGATIVE_LABEL] / len(train_labels)\n",
    "    print(f\"p1 = {round(p1 * 100,2)}% p0 = {round(p0 * 100,2)}%\")\n",
    "    y_hat = []\n",
    "    for _ in range(num_samples):\n",
    "        num = random.random()\n",
    "        if num < p1:\n",
    "            y_hat.append(POSITIVE_LABEL)\n",
    "        else:\n",
    "            y_hat.append(NEGATIVE_LABEL)\n",
    "    return y_hat\n",
    "    \n",
    "predict_random(train_labels, 10)"
   ]
  },
  {
   "cell_type": "markdown",
   "metadata": {},
   "source": [
    "### Task 2.2: Naive Bayes Classifier (Total: 10 Points)\n",
    "\n",
    "In the class, Jim went over how to implement a Naive Bayes Classifier using the tokens in the training samples.\n",
    "In this task, you will do the same. As a preprocessing step, you might want to remove the stop words and lemmatize/stem the words of the texts. "
   ]
  },
  {
   "cell_type": "markdown",
   "metadata": {},
   "source": [
    "### Spacy Model https://spacy.io\n",
    "\n",
    "To tokenize the text and help extract features from text, we will use the popular spaCy model"
   ]
  },
  {
   "cell_type": "code",
   "execution_count": 11,
   "metadata": {},
   "outputs": [],
   "source": [
    "### DO NOT EDIT ###\n",
    "\n",
    "# Initialize the spacy model\n",
    "nlp = spacy.load('en_core_web_sm')"
   ]
  },
  {
   "cell_type": "markdown",
   "metadata": {},
   "source": [
    "### Task 2.2.1: Play around with spacy (0 Points)"
   ]
  },
  {
   "cell_type": "code",
   "execution_count": 12,
   "metadata": {},
   "outputs": [
    {
     "name": "stdout",
     "output_type": "stream",
     "text": [
      "Token Lemma Is_Stopword?\n",
      "\n",
      "This this True\n",
      "is be True\n",
      "an an True\n",
      "amazing amazing False\n",
      "sentence sentence False\n"
     ]
    }
   ],
   "source": [
    "### ENTER CODE HERE ###\n",
    "\n",
    "test_string = \"This is an amazing sentence\"\n",
    "\n",
    "# parse the string with spacy model\n",
    "test_doc = nlp(test_string)\n",
    "print('Token', 'Lemma', 'Is_Stopword?\\n')\n",
    "for token in test_doc:\n",
    "    print(token, token.lemma_, token.is_stop)"
   ]
  },
  {
   "cell_type": "markdown",
   "metadata": {},
   "source": [
    "### Task 2.2.2: Preprocessing (5 Points)\n",
    "\n",
    "Remove stopwords and lemmatize the words of a text"
   ]
  },
  {
   "cell_type": "code",
   "execution_count": 13,
   "metadata": {},
   "outputs": [
    {
     "name": "stdout",
     "output_type": "stream",
     "text": [
      "All Test Cases Passed!\n"
     ]
    }
   ],
   "source": [
    "### ENTER CODE HERE ###\n",
    "\n",
    "def pre_process(text: str) -> List[str]:\n",
    "    \"\"\"\n",
    "    remove stopwords and lemmatize and return an array of lemmas\n",
    "    \"\"\"\n",
    "    doc = nlp(text)\n",
    "    filtered_words = []\n",
    "    for token in doc:\n",
    "        if token.is_stop != True:\n",
    "            filtered_words.append(token.lemma_)\n",
    "            \n",
    "    return filtered_words\n",
    "    \n",
    "test_string = \"This sentence needs to be lemmatized\"\n",
    "\n",
    "assert len({'sentence', 'need', 'lemmatize', 'lemmatiz'}.intersection(pre_process(test_string))) >= 3\n",
    "\n",
    "print('All Test Cases Passed!')"
   ]
  },
  {
   "cell_type": "markdown",
   "metadata": {},
   "source": [
    "### Task 2.2.3: The Naive Bayes Class (5 Points)\n",
    "\n",
    "The standard way of implementing classifiers like Naive Bayes is to implement the two methods: \"fit\" and \"predict\". The fit method expects the training data along with labels, and the predict method predicts the labels for the provides texts of samples."
   ]
  },
  {
   "cell_type": "code",
   "execution_count": 33,
   "metadata": {
    "tags": []
   },
   "outputs": [],
   "source": [
    "### ENTER CODE HERE ###\n",
    "\n",
    "\n",
    "class NaiveBayesClassifier:\n",
    "    def __init__(self, num_classes):\n",
    "        self.num_classes = num_classes\n",
    "        self.label_word_counter = {}\n",
    "        self.label_words_count = {}\n",
    "    \n",
    "    def fit(self, texts, labels):\n",
    "        \"\"\"\n",
    "        1. Group samples by their labels\n",
    "        2. Preprocess each text\n",
    "        3. Count the words of the text for each label\n",
    "        \"\"\"\n",
    "        POSITIVE_LABEL = 1\n",
    "        NEGATIVE_LABEL = 0\n",
    "        pos_samples = [text for text, label in zip(texts,labels) if label == POSITIVE_LABEL]\n",
    "        neg_samples = [text for text, label in zip(texts, labels) if label == NEGATIVE_LABEL]\n",
    "        filtered_pos_samples = pre_process(\" \".join(pos_samples))\n",
    "        filtered_neg_samples = pre_process(\" \".join(neg_samples))\n",
    "        pos_counter = dict(Counter(filtered_pos_samples))\n",
    "        neg_counter = dict(Counter(filtered_neg_samples))\n",
    "        \n",
    "        \n",
    "        self.label_word_counter[POSITIVE_LABEL] = pos_counter\n",
    "        self.label_word_counter[NEGATIVE_LABEL] = neg_counter\n",
    "        self.label_words_count[POSITIVE_LABEL] = len(filtered_pos_samples)\n",
    "        self.label_words_count[NEGATIVE_LABEL] = len(filtered_neg_samples)\n",
    "        \n",
    "        \n",
    "    def predict(self, texts):\n",
    "        \"\"\"\n",
    "        1. Preprocess the texts\n",
    "        2. Predict the class by using the likelihood with Bayes Method and Laplace Smoothing\n",
    "        \"\"\"\n",
    "        filtered_texts = [pre_process(text) for text in texts]\n",
    "        predictions = []\n",
    "\n",
    "        for text in filtered_texts:\n",
    "            log_probs = {}\n",
    "\n",
    "            for label, word_count in self.label_words_count.items():\n",
    "                log_prob = 0.0\n",
    "\n",
    "                for word in text:\n",
    "                    #calculate log prob of the word for the current class\n",
    "                    word_count_in_class = self.label_word_counter[label].get(word, 0)\n",
    "                    word_prob = (word_count_in_class + 1) / (word_count + len(self.label_word_counter[label]))\n",
    "\n",
    "                    # add the log prob of the word to the current class's log prob\n",
    "                    log_prob += math.log(word_prob)\n",
    "\n",
    "                # calculate the final log prob for the current class\n",
    "                log_prob += math.log(self.label_words_count[label] / sum(self.label_words_count.values()))\n",
    "\n",
    "                # store the log probfor the current class\n",
    "                log_probs[label] = log_prob\n",
    "\n",
    "            #find the argmax \n",
    "            pred_label = max(log_probs, key=log_probs.get)\n",
    "            predictions.append(pred_label)\n",
    "\n",
    "        return predictions\n",
    "        "
   ]
  },
  {
   "cell_type": "markdown",
   "metadata": {},
   "source": [
    "### Task 2.3: Baseline Results  (5 Points)"
   ]
  },
  {
   "cell_type": "markdown",
   "metadata": {},
   "source": [
    "Since there is not hyperparameter-tuing required for the baselines, we can use the entirety of the training set (no need to split the dataset into train and development). Report the results you achieve with the two baselines by running the following cell:"
   ]
  },
  {
   "cell_type": "code",
   "execution_count": 34,
   "metadata": {},
   "outputs": [
    {
     "name": "stdout",
     "output_type": "stream",
     "text": [
      "p1 = 50.33% p0 = 49.67%\n",
      "Random Chance F1: 0.5\n",
      "Naive Bayes F1: 0.9473684210526315\n"
     ]
    }
   ],
   "source": [
    "### DO NOT EDIT ###\n",
    "\n",
    "### DEV SET RESULTS\n",
    "\n",
    "testset_prediction_random = predict_random(train_labels, num_samples=len(dev_labels))\n",
    "print('Random Chance F1:', f1_score(testset_prediction_random, dev_labels))\n",
    "\n",
    "naive_bayes_classifier = NaiveBayesClassifier(num_classes=2)\n",
    "naive_bayes_classifier.fit(train_texts, train_labels)\n",
    "testset_predictions_nb = naive_bayes_classifier.predict(dev_texts)\n",
    "print('Naive Bayes F1:', f1_score(testset_predictions_nb, dev_labels))"
   ]
  },
  {
   "cell_type": "code",
   "execution_count": 16,
   "metadata": {},
   "outputs": [
    {
     "name": "stdout",
     "output_type": "stream",
     "text": [
      "p1 = 50.26% p0 = 49.74%\n",
      "Random Chance F1: 0.41860465116279066\n",
      "Naive Bayes F1: 0.9056603773584904\n"
     ]
    }
   ],
   "source": [
    "# ### DO NOT EDIT ###\n",
    "# ### RUN THIS ONLY ON DEADLINE ###\n",
    "# ### TEST SET RESULTS\n",
    "\n",
    "testset_prediction_random = predict_random(all_labels, num_samples=len(test_labels))\n",
    "print('Random Chance F1:', f1_score(testset_prediction_random, test_labels))\n",
    "\n",
    "naive_bayes_classifier = NaiveBayesClassifier(num_classes=2)\n",
    "naive_bayes_classifier.fit(all_texts, all_labels)\n",
    "testset_predictions_nb = naive_bayes_classifier.predict(test_texts)\n",
    "print('Naive Bayes F1:', f1_score(testset_predictions_nb, test_labels))"
   ]
  },
  {
   "cell_type": "markdown",
   "metadata": {},
   "source": [
    "## Section 3: Logistic Regression on Features (Total: 60 Points)\n",
    "\n",
    "Now let's try building a logistic regression based classifier on hand-engineered features.\n",
    "\n",
    "The following tasks are going to be the implementation of the components required in building a Logistic Regressor."
   ]
  },
  {
   "attachments": {
    "image.png": {
     "image/png": "[encoded data removed]"
    }
   },
   "cell_type": "markdown",
   "metadata": {
    "tags": []
   },
   "source": [
    "### Task 3.0: Feature Extraction (20 points)\n",
    "\n",
    "This is perhaps the most challenging part of this assignment. In the class, we went over how to featurize text for a classification system for sentiment analysis. In this assignment, you should implement and build upon this to accuractely classify the hotel reviews.\n",
    "\n",
    "This task requires a thorough understanding of the dataset to answer the important question, \"What is in the data?\". Please go through some of the datapoints and convert the signals that you think might help in identifying \"sentiment\" as features.\n",
    "\n",
    "Please refer to the section in Jim's book that illustrates the process of feature engineering for this task. We have attached an image of the table below:\n",
    "\n",
    "![image.png](attachment:image.png)\n",
    "\n",
    "Please use the files with postive and negative words attached in the assignment: [positive_words.txt](data/poisitive-words.txt) and  [negative_words.txt](data/negative-words.txt)"
   ]
  },
  {
   "cell_type": "code",
   "execution_count": 17,
   "metadata": {},
   "outputs": [],
   "source": [
    "pos_path = \"data/positive-words.txt\"\n",
    "neg_path = \"data/negative-words.txt\"\n",
    "pos_words, neg_words = [], []\n",
    "\n",
    "with open(pos_path, \"r\") as f:\n",
    "    for line in f:\n",
    "        pos_words.append(line.strip())\n",
    "with open(neg_path, \"r\") as f2:\n",
    "    for line in f2:\n",
    "        neg_words.append(line.strip())\n",
    "        "
   ]
  },
  {
   "cell_type": "code",
   "execution_count": 18,
   "metadata": {},
   "outputs": [],
   "source": [
    "def make_test_feature(text: spacy.tokens.doc.Doc):\n",
    "    return \"happy\" in [t.lemma_ for t in text]\n",
    "\n",
    "\n",
    "def extract_features(text: nlp):\n",
    "    features = []\n",
    "    # TODO: Replace this with your own feature extraction functions.\n",
    "    p_count = 0 #x1\n",
    "    n_count = 0 #x2\n",
    "    is_no = 0 #x3\n",
    "    pn_count = 0 #x4\n",
    "    is_exc = 0 #x5\n",
    "    is_cap = 0\n",
    "    word_count = math.log(len(text)) #x6\n",
    "    \n",
    "    \n",
    "    for token in text:\n",
    "        if token.text.lower() in pos_words:\n",
    "            p_count += 1\n",
    "        if token.text.lower() in neg_words:\n",
    "            n_count +=1\n",
    "        if token.text == 'no':\n",
    "            is_no = 1\n",
    "        if token.pos_ == \"PRON\":\n",
    "            pn_count += 1\n",
    "        if token.text.isupper():\n",
    "            is_cap = 1\n",
    "        if text.text == \"!\":\n",
    "            is_exc = 1\n",
    "    \n",
    "    features.extend([p_count, n_count, is_no, is_exc, word_count])\n",
    "    \n",
    "    return features"
   ]
  },
  {
   "cell_type": "code",
   "execution_count": 19,
   "metadata": {},
   "outputs": [],
   "source": [
    "### ENTER CODE HERE ###\n",
    "### DO NOT CHANGE THE SIGNATURE OF THE function THOUGH ###\n",
    "\n",
    "def featurize_data(texts, labels):\n",
    "    features = [\n",
    "        extract_features(doc) for doc in nlp.pipe(texts)\n",
    "    ]\n",
    "    return torch.FloatTensor(features), torch.FloatTensor(labels)"
   ]
  },
  {
   "attachments": {
    "image.png": {
     "image/png": "[encoded data removed]"
    }
   },
   "cell_type": "markdown",
   "metadata": {
    "tags": []
   },
   "source": [
    "### Task 3.0.2: Feature Scaling (10 Points)\n",
    "\n",
    "In this task we will use the data normalization technique to ensure the scales of the feature are consistent.\n",
    "After featurizing the dataset, we need to call the following function before passing it to the classifier\n",
    "\n",
    "#### Normalization Formula\n",
    "\n",
    "![image.png](attachment:image.png)"
   ]
  },
  {
   "cell_type": "code",
   "execution_count": 20,
   "metadata": {},
   "outputs": [],
   "source": [
    "### ENTER CODE HERE ###\n",
    "def normalize(features: torch.Tensor) -> torch.Tensor:\n",
    "    \"\"\"\n",
    "    return the features transformed by the above formula of normalization\n",
    "    \"\"\"\n",
    "    normalized_features = torch.empty_like(features, dtype=torch.float32)\n",
    "    for i in range(features.size(0)):\n",
    "        max_num = torch.max(features[i])\n",
    "        min_num = torch.min(features[i])\n",
    "        \n",
    "        for j in range(features.size(1)):\n",
    "            xi = features[i][j]\n",
    "            norm = (xi - min_num) / (max_num - min_num)\n",
    "            normalized_features[i][j] = norm\n",
    "            \n",
    "    return normalized_features\n"
   ]
  },
  {
   "cell_type": "markdown",
   "metadata": {},
   "source": [
    "## Training a Logistic Regression Classifier (Total: 30 Points)"
   ]
  },
  {
   "cell_type": "markdown",
   "metadata": {},
   "source": [
    "In this section, you will implement the components needed to train the binary classifier using logistic regression"
   ]
  },
  {
   "cell_type": "markdown",
   "metadata": {},
   "source": [
    "### Here we define our pytorch logistic regression classifier (DO NOT EDIT THIS)"
   ]
  },
  {
   "cell_type": "code",
   "execution_count": 21,
   "metadata": {},
   "outputs": [],
   "source": [
    "class SentimentClassifier(torch.nn.Module):\n",
    "    def __init__(self, input_dim: int):\n",
    "        super().__init__()\n",
    "        # We force output to be one, since we are doing binary logistic regression\n",
    "        self.output_size = 1\n",
    "        self.coefficients = torch.nn.Linear(input_dim, self.output_size)\n",
    "\n",
    "        # Initialize weights. Note that this is not strictly necessary,\n",
    "        # but you should test different initializations per lecture\n",
    "        initialize_weights(self.coefficients)\n",
    "        \n",
    "    def forward(self, features: torch.Tensor):\n",
    "        # We predict a number by multipling by the coefficients\n",
    "        # and then take the sigmoid to turn the score as logits\n",
    "        return torch.sigmoid(self.coefficients(features))"
   ]
  },
  {
   "cell_type": "markdown",
   "metadata": {},
   "source": [
    "### Task 3.1: Initialize the weights. (5 Points)\n",
    "\n",
    "Initialization of the parameters is an important step to ensure the SGD algorithm converges to a global optimum. Typically, we need to try different initialization methods and compare the accuracy we achieve for the development set. In this task, implement the function that initializes the parameters to ..."
   ]
  },
  {
   "cell_type": "code",
   "execution_count": 22,
   "metadata": {},
   "outputs": [],
   "source": [
    "### ENTER CODE HERE ###\n",
    "\n",
    "def initialize_weights(coefficients):\n",
    "    \"\"\"\n",
    "    TODO: Replace the line `raise NotImplementedError` with your code.\n",
    "    Initialize the weights of the coefficients by assigning the parameter\n",
    "    coefficients.weights.data = ...\n",
    "    \"\"\"\n",
    "\n",
    "    torch.nn.init.zeros_(coefficients.weight)\n",
    "\n",
    "    print(coefficients.weight.data)\n"
   ]
  },
  {
   "cell_type": "markdown",
   "metadata": {},
   "source": [
    "Let's build a training function similar to the linear regressor from the tutorial"
   ]
  },
  {
   "cell_type": "markdown",
   "metadata": {},
   "source": [
    "### Task 3.2: Logistic Loss Function (10 Points)"
   ]
  },
  {
   "cell_type": "code",
   "execution_count": 23,
   "metadata": {},
   "outputs": [],
   "source": [
    "### ENTER CODE HERE ###\n",
    "\n",
    "def logistic_loss(prediction: torch.Tensor, label: torch.Tensor) -> torch.Tensor:\n",
    "    \"\"\"\n",
    "    TODO: Implement the logistic loss function between a prediction and label.\n",
    "    \"\"\"\n",
    "    loss = torch.mean(- ((label * torch.log(prediction)) + (1 - label) * torch.log(1 - prediction)) )\n",
    "    # print(\"loss\", loss)\n",
    "    return loss\n",
    "    \n",
    "    "
   ]
  },
  {
   "cell_type": "markdown",
   "metadata": {},
   "source": [
    "### Task 3.3: Create an SGD optimizer (0 Points)\n",
    "\n",
    "We have already provided the implementation of how to create the SGD optimizer\n",
    "\n",
    "You may try different optimizers refering to the docs provided"
   ]
  },
  {
   "cell_type": "code",
   "execution_count": 24,
   "metadata": {},
   "outputs": [],
   "source": [
    "### ENTER CODE HERE ###\n",
    "\n",
    "def make_optimizer(model, learning_rate) -> torch.optim:\n",
    "    \"\"\"\n",
    "    Returns an Stocastic Gradient Descent Optimizer\n",
    "    See here for algorithms you can import: https://pytorch.org/docs/stable/optim.html\n",
    "    \"\"\"\n",
    "    return torch.optim.SGD(model.parameters(), learning_rate)"
   ]
  },
  {
   "cell_type": "markdown",
   "metadata": {},
   "source": [
    "### Task 3.5: Converting Logits into Predictions (5 Points)"
   ]
  },
  {
   "cell_type": "code",
   "execution_count": 25,
   "metadata": {},
   "outputs": [],
   "source": [
    "### ENTER CODE HERE ###\n",
    "\n",
    "def predict(model, features):\n",
    "    with torch.no_grad():\n",
    "        \"\"\"\n",
    "        TODO: Replace the line `raise NotImplementedError`\n",
    "        with the logic of converting the logits into prediction labels (0, 1)\n",
    "        \"\"\"\n",
    "        logits = model(features)\n",
    "\n",
    "        prediction = (logits >= 0.5).float()\n",
    "\n",
    "        p = prediction.squeeze(-1)\n",
    "        return p"
   ]
  },
  {
   "cell_type": "markdown",
   "metadata": {
    "tags": []
   },
   "source": [
    "### Training Function (DO NOT EDIT THIS)"
   ]
  },
  {
   "cell_type": "code",
   "execution_count": 26,
   "metadata": {},
   "outputs": [],
   "source": [
    "### DO NOT EDIT ###\n",
    "\n",
    "from tqdm.autonotebook import tqdm\n",
    "import random\n",
    "\n",
    "\n",
    "def training_loop(\n",
    "    num_epochs,\n",
    "    batch_size,\n",
    "    train_features,\n",
    "    train_labels,\n",
    "    dev_features,\n",
    "    dev_labels,\n",
    "    optimizer,\n",
    "    model\n",
    "):\n",
    "    samples = list(zip(train_features, train_labels))\n",
    "    random.shuffle(samples)\n",
    "    batches = []\n",
    "    for i in range(0, len(samples), batch_size):\n",
    "        batches.append(samples[i:i+batch_size])\n",
    "    print(\"Training...\")\n",
    "    for i in range(num_epochs):\n",
    "        losses = []\n",
    "        for batch in tqdm(batches):\n",
    "            # Empty the dynamic computation graph\n",
    "            features, labels = zip(*batch)\n",
    "            features = torch.stack(features)\n",
    "            labels = torch.stack(labels)\n",
    "            optimizer.zero_grad()\n",
    "            # Run the model\n",
    "            logits = model(features)\n",
    "            # Compute loss\n",
    "            loss = logistic_loss(torch.squeeze(logits), labels)\n",
    "            # In this logistic regression example,\n",
    "            # this entails computing a single gradient\n",
    "            loss.backward()\n",
    "            # Backpropogate the loss through our model\n",
    "            \n",
    "            # Update our coefficients in the direction of the gradient.\n",
    "            optimizer.step()\n",
    "             # For logging\n",
    "            losses.append(loss.item())\n",
    "        \n",
    "        # Estimate the f1 score for the development set\n",
    "        dev_f1 = f1_score(predict(model, dev_features), dev_labels)\n",
    "        acc = accuracy(predict(model, dev_features), dev_labels)\n",
    "        print(f\"epoch {i}, loss: {sum(losses)/len(losses)}\")\n",
    "        print(f\"Dev F1 {dev_f1}\")\n",
    "        \n",
    "    # Return the trained model\n",
    "    return model"
   ]
  },
  {
   "cell_type": "markdown",
   "metadata": {},
   "source": [
    "### Task 3.6: Train the classifier (10 Points)\n",
    "\n",
    "Run the following cell to train a logistic regressor on your hand-engineered features."
   ]
  },
  {
   "cell_type": "code",
   "execution_count": 27,
   "metadata": {},
   "outputs": [
    {
     "name": "stdout",
     "output_type": "stream",
     "text": [
      "tensor([[0., 0., 0., 0., 0.]])\n",
      "Training...\n"
     ]
    },
    {
     "data": {
      "application/vnd.jupyter.widget-view+json": {
       "model_id": "cf072a3accd641079f81af35c4893750",
       "version_major": 2,
       "version_minor": 0
      },
      "text/plain": [
       "  0%|          | 0/10 [00:00<?, ?it/s]"
      ]
     },
     "metadata": {},
     "output_type": "display_data"
    },
    {
     "name": "stdout",
     "output_type": "stream",
     "text": [
      "epoch 0, loss: 0.6927207827568054\n",
      "Dev F1 0.0\n"
     ]
    },
    {
     "data": {
      "application/vnd.jupyter.widget-view+json": {
       "model_id": "98b2e74e6c47461ab1a5ddb184a8507f",
       "version_major": 2,
       "version_minor": 0
      },
      "text/plain": [
       "  0%|          | 0/10 [00:00<?, ?it/s]"
      ]
     },
     "metadata": {},
     "output_type": "display_data"
    },
    {
     "name": "stdout",
     "output_type": "stream",
     "text": [
      "epoch 1, loss: 0.6888343155384063\n",
      "Dev F1 0.0\n"
     ]
    },
    {
     "data": {
      "application/vnd.jupyter.widget-view+json": {
       "model_id": "2dec8e78e7ed40a68d3334e6f9130b19",
       "version_major": 2,
       "version_minor": 0
      },
      "text/plain": [
       "  0%|          | 0/10 [00:00<?, ?it/s]"
      ]
     },
     "metadata": {},
     "output_type": "display_data"
    },
    {
     "name": "stdout",
     "output_type": "stream",
     "text": [
      "epoch 2, loss: 0.6850044190883636\n",
      "Dev F1 0.5384615384615384\n"
     ]
    },
    {
     "data": {
      "application/vnd.jupyter.widget-view+json": {
       "model_id": "11bbb5585cab4dafad37896ec45c7b26",
       "version_major": 2,
       "version_minor": 0
      },
      "text/plain": [
       "  0%|          | 0/10 [00:00<?, ?it/s]"
      ]
     },
     "metadata": {},
     "output_type": "display_data"
    },
    {
     "name": "stdout",
     "output_type": "stream",
     "text": [
      "epoch 3, loss: 0.6812292039394379\n",
      "Dev F1 0.8823529411764706\n"
     ]
    },
    {
     "data": {
      "application/vnd.jupyter.widget-view+json": {
       "model_id": "6155e65cdf0f4f48a403a47e1861c61d",
       "version_major": 2,
       "version_minor": 0
      },
      "text/plain": [
       "  0%|          | 0/10 [00:00<?, ?it/s]"
      ]
     },
     "metadata": {},
     "output_type": "display_data"
    },
    {
     "name": "stdout",
     "output_type": "stream",
     "text": [
      "epoch 4, loss: 0.6775069117546082\n",
      "Dev F1 0.9444444444444444\n"
     ]
    },
    {
     "data": {
      "application/vnd.jupyter.widget-view+json": {
       "model_id": "d6729ad4bab743d0be0a0666b61bfd2a",
       "version_major": 2,
       "version_minor": 0
      },
      "text/plain": [
       "  0%|          | 0/10 [00:00<?, ?it/s]"
      ]
     },
     "metadata": {},
     "output_type": "display_data"
    },
    {
     "name": "stdout",
     "output_type": "stream",
     "text": [
      "epoch 5, loss: 0.6738358855247497\n",
      "Dev F1 0.9444444444444444\n"
     ]
    },
    {
     "data": {
      "application/vnd.jupyter.widget-view+json": {
       "model_id": "0aebcad743384c6fa435850fcc897552",
       "version_major": 2,
       "version_minor": 0
      },
      "text/plain": [
       "  0%|          | 0/10 [00:00<?, ?it/s]"
      ]
     },
     "metadata": {},
     "output_type": "display_data"
    },
    {
     "name": "stdout",
     "output_type": "stream",
     "text": [
      "epoch 6, loss: 0.6702146351337432\n",
      "Dev F1 0.9444444444444444\n"
     ]
    },
    {
     "data": {
      "application/vnd.jupyter.widget-view+json": {
       "model_id": "a16b5931162341599f82097e8db18990",
       "version_major": 2,
       "version_minor": 0
      },
      "text/plain": [
       "  0%|          | 0/10 [00:00<?, ?it/s]"
      ]
     },
     "metadata": {},
     "output_type": "display_data"
    },
    {
     "name": "stdout",
     "output_type": "stream",
     "text": [
      "epoch 7, loss: 0.6666417837142944\n",
      "Dev F1 0.972972972972973\n"
     ]
    },
    {
     "data": {
      "application/vnd.jupyter.widget-view+json": {
       "model_id": "58f14fa9df6f442a8892a81a561a8c54",
       "version_major": 2,
       "version_minor": 0
      },
      "text/plain": [
       "  0%|          | 0/10 [00:00<?, ?it/s]"
      ]
     },
     "metadata": {},
     "output_type": "display_data"
    },
    {
     "name": "stdout",
     "output_type": "stream",
     "text": [
      "epoch 8, loss: 0.6631160259246827\n",
      "Dev F1 0.972972972972973\n"
     ]
    },
    {
     "data": {
      "application/vnd.jupyter.widget-view+json": {
       "model_id": "b98ed04077094248be360fd95589d0f8",
       "version_major": 2,
       "version_minor": 0
      },
      "text/plain": [
       "  0%|          | 0/10 [00:00<?, ?it/s]"
      ]
     },
     "metadata": {},
     "output_type": "display_data"
    },
    {
     "name": "stdout",
     "output_type": "stream",
     "text": [
      "epoch 9, loss: 0.6596361696720123\n",
      "Dev F1 0.972972972972973\n"
     ]
    },
    {
     "data": {
      "application/vnd.jupyter.widget-view+json": {
       "model_id": "1c10bb8aa8d64381b92d9d2bb526a8ef",
       "version_major": 2,
       "version_minor": 0
      },
      "text/plain": [
       "  0%|          | 0/10 [00:00<?, ?it/s]"
      ]
     },
     "metadata": {},
     "output_type": "display_data"
    },
    {
     "name": "stdout",
     "output_type": "stream",
     "text": [
      "epoch 10, loss: 0.6562010705471039\n",
      "Dev F1 0.972972972972973\n"
     ]
    },
    {
     "data": {
      "application/vnd.jupyter.widget-view+json": {
       "model_id": "4b88bf9c6aea4b448dd7309d4b75b4df",
       "version_major": 2,
       "version_minor": 0
      },
      "text/plain": [
       "  0%|          | 0/10 [00:00<?, ?it/s]"
      ]
     },
     "metadata": {},
     "output_type": "display_data"
    },
    {
     "name": "stdout",
     "output_type": "stream",
     "text": [
      "epoch 11, loss: 0.6528097212314605\n",
      "Dev F1 0.972972972972973\n"
     ]
    },
    {
     "data": {
      "application/vnd.jupyter.widget-view+json": {
       "model_id": "283aed804fca4dc4bcc4ebe478a78382",
       "version_major": 2,
       "version_minor": 0
      },
      "text/plain": [
       "  0%|          | 0/10 [00:00<?, ?it/s]"
      ]
     },
     "metadata": {},
     "output_type": "display_data"
    },
    {
     "name": "stdout",
     "output_type": "stream",
     "text": [
      "epoch 12, loss: 0.6494610548019409\n",
      "Dev F1 0.9473684210526315\n"
     ]
    },
    {
     "data": {
      "application/vnd.jupyter.widget-view+json": {
       "model_id": "bf866aa86d3748c68b669b562ed773f9",
       "version_major": 2,
       "version_minor": 0
      },
      "text/plain": [
       "  0%|          | 0/10 [00:00<?, ?it/s]"
      ]
     },
     "metadata": {},
     "output_type": "display_data"
    },
    {
     "name": "stdout",
     "output_type": "stream",
     "text": [
      "epoch 13, loss: 0.646154248714447\n",
      "Dev F1 0.9473684210526315\n"
     ]
    },
    {
     "data": {
      "application/vnd.jupyter.widget-view+json": {
       "model_id": "f194201d33984cf3ba630e1734256a12",
       "version_major": 2,
       "version_minor": 0
      },
      "text/plain": [
       "  0%|          | 0/10 [00:00<?, ?it/s]"
      ]
     },
     "metadata": {},
     "output_type": "display_data"
    },
    {
     "name": "stdout",
     "output_type": "stream",
     "text": [
      "epoch 14, loss: 0.6428883314132691\n",
      "Dev F1 0.9473684210526315\n"
     ]
    },
    {
     "data": {
      "application/vnd.jupyter.widget-view+json": {
       "model_id": "7ba9463ca8c847cc8b69d1d81d98096e",
       "version_major": 2,
       "version_minor": 0
      },
      "text/plain": [
       "  0%|          | 0/10 [00:00<?, ?it/s]"
      ]
     },
     "metadata": {},
     "output_type": "display_data"
    },
    {
     "name": "stdout",
     "output_type": "stream",
     "text": [
      "epoch 15, loss: 0.6396625638008118\n",
      "Dev F1 0.9473684210526315\n"
     ]
    },
    {
     "data": {
      "application/vnd.jupyter.widget-view+json": {
       "model_id": "05a7e0c7d6524c8d99ceb8a4e73accb5",
       "version_major": 2,
       "version_minor": 0
      },
      "text/plain": [
       "  0%|          | 0/10 [00:00<?, ?it/s]"
      ]
     },
     "metadata": {},
     "output_type": "display_data"
    },
    {
     "name": "stdout",
     "output_type": "stream",
     "text": [
      "epoch 16, loss: 0.6364760816097259\n",
      "Dev F1 0.9473684210526315\n"
     ]
    },
    {
     "data": {
      "application/vnd.jupyter.widget-view+json": {
       "model_id": "f4caf041806c4c87a34869ce0a3c9db1",
       "version_major": 2,
       "version_minor": 0
      },
      "text/plain": [
       "  0%|          | 0/10 [00:00<?, ?it/s]"
      ]
     },
     "metadata": {},
     "output_type": "display_data"
    },
    {
     "name": "stdout",
     "output_type": "stream",
     "text": [
      "epoch 17, loss: 0.6333282232284546\n",
      "Dev F1 0.9473684210526315\n"
     ]
    },
    {
     "data": {
      "application/vnd.jupyter.widget-view+json": {
       "model_id": "c98e6c2d6c164398878323851f19aad9",
       "version_major": 2,
       "version_minor": 0
      },
      "text/plain": [
       "  0%|          | 0/10 [00:00<?, ?it/s]"
      ]
     },
     "metadata": {},
     "output_type": "display_data"
    },
    {
     "name": "stdout",
     "output_type": "stream",
     "text": [
      "epoch 18, loss: 0.630218243598938\n",
      "Dev F1 0.9473684210526315\n"
     ]
    },
    {
     "data": {
      "application/vnd.jupyter.widget-view+json": {
       "model_id": "94d892df020d4416839072c571d67492",
       "version_major": 2,
       "version_minor": 0
      },
      "text/plain": [
       "  0%|          | 0/10 [00:00<?, ?it/s]"
      ]
     },
     "metadata": {},
     "output_type": "display_data"
    },
    {
     "name": "stdout",
     "output_type": "stream",
     "text": [
      "epoch 19, loss: 0.6271454215049743\n",
      "Dev F1 0.9473684210526315\n"
     ]
    },
    {
     "data": {
      "application/vnd.jupyter.widget-view+json": {
       "model_id": "2b8af56ffd7e4f3ab1eef3ee70654d71",
       "version_major": 2,
       "version_minor": 0
      },
      "text/plain": [
       "  0%|          | 0/10 [00:00<?, ?it/s]"
      ]
     },
     "metadata": {},
     "output_type": "display_data"
    },
    {
     "name": "stdout",
     "output_type": "stream",
     "text": [
      "epoch 20, loss: 0.6241091609001159\n",
      "Dev F1 0.9473684210526315\n"
     ]
    },
    {
     "data": {
      "application/vnd.jupyter.widget-view+json": {
       "model_id": "ef2be6e8adff4dcab8b46dd1526a5cb5",
       "version_major": 2,
       "version_minor": 0
      },
      "text/plain": [
       "  0%|          | 0/10 [00:00<?, ?it/s]"
      ]
     },
     "metadata": {},
     "output_type": "display_data"
    },
    {
     "name": "stdout",
     "output_type": "stream",
     "text": [
      "epoch 21, loss: 0.621108877658844\n",
      "Dev F1 0.9473684210526315\n"
     ]
    },
    {
     "data": {
      "application/vnd.jupyter.widget-view+json": {
       "model_id": "f152144d4f1544f2ad91a561fbc3ebaf",
       "version_major": 2,
       "version_minor": 0
      },
      "text/plain": [
       "  0%|          | 0/10 [00:00<?, ?it/s]"
      ]
     },
     "metadata": {},
     "output_type": "display_data"
    },
    {
     "name": "stdout",
     "output_type": "stream",
     "text": [
      "epoch 22, loss: 0.6181438982486724\n",
      "Dev F1 0.9473684210526315\n"
     ]
    },
    {
     "data": {
      "application/vnd.jupyter.widget-view+json": {
       "model_id": "78bd89b7e4654272bff17c36563430b7",
       "version_major": 2,
       "version_minor": 0
      },
      "text/plain": [
       "  0%|          | 0/10 [00:00<?, ?it/s]"
      ]
     },
     "metadata": {},
     "output_type": "display_data"
    },
    {
     "name": "stdout",
     "output_type": "stream",
     "text": [
      "epoch 23, loss: 0.6152136862277985\n",
      "Dev F1 0.9473684210526315\n"
     ]
    },
    {
     "data": {
      "application/vnd.jupyter.widget-view+json": {
       "model_id": "41448ba257bd4117956a6a843eaf6d72",
       "version_major": 2,
       "version_minor": 0
      },
      "text/plain": [
       "  0%|          | 0/10 [00:00<?, ?it/s]"
      ]
     },
     "metadata": {},
     "output_type": "display_data"
    },
    {
     "name": "stdout",
     "output_type": "stream",
     "text": [
      "epoch 24, loss: 0.61231769323349\n",
      "Dev F1 0.9473684210526315\n"
     ]
    },
    {
     "data": {
      "application/vnd.jupyter.widget-view+json": {
       "model_id": "f3de4506ee9849dab43e670cab12a662",
       "version_major": 2,
       "version_minor": 0
      },
      "text/plain": [
       "  0%|          | 0/10 [00:00<?, ?it/s]"
      ]
     },
     "metadata": {},
     "output_type": "display_data"
    },
    {
     "name": "stdout",
     "output_type": "stream",
     "text": [
      "epoch 25, loss: 0.6094553768634796\n",
      "Dev F1 0.9473684210526315\n"
     ]
    },
    {
     "data": {
      "application/vnd.jupyter.widget-view+json": {
       "model_id": "41d66e6504de4ba288c2daf163b3c62b",
       "version_major": 2,
       "version_minor": 0
      },
      "text/plain": [
       "  0%|          | 0/10 [00:00<?, ?it/s]"
      ]
     },
     "metadata": {},
     "output_type": "display_data"
    },
    {
     "name": "stdout",
     "output_type": "stream",
     "text": [
      "epoch 26, loss: 0.6066262006759644\n",
      "Dev F1 0.9473684210526315\n"
     ]
    },
    {
     "data": {
      "application/vnd.jupyter.widget-view+json": {
       "model_id": "a8a9ede6f42747c592a05be4e3d2233e",
       "version_major": 2,
       "version_minor": 0
      },
      "text/plain": [
       "  0%|          | 0/10 [00:00<?, ?it/s]"
      ]
     },
     "metadata": {},
     "output_type": "display_data"
    },
    {
     "name": "stdout",
     "output_type": "stream",
     "text": [
      "epoch 27, loss: 0.6038296818733215\n",
      "Dev F1 0.9473684210526315\n"
     ]
    },
    {
     "data": {
      "application/vnd.jupyter.widget-view+json": {
       "model_id": "2a1ddf3701a441f7beaa3d3ae2aa5371",
       "version_major": 2,
       "version_minor": 0
      },
      "text/plain": [
       "  0%|          | 0/10 [00:00<?, ?it/s]"
      ]
     },
     "metadata": {},
     "output_type": "display_data"
    },
    {
     "name": "stdout",
     "output_type": "stream",
     "text": [
      "epoch 28, loss: 0.6010653257369996\n",
      "Dev F1 0.9473684210526315\n"
     ]
    },
    {
     "data": {
      "application/vnd.jupyter.widget-view+json": {
       "model_id": "3ba1f154b5c141759d7f01ce947295a3",
       "version_major": 2,
       "version_minor": 0
      },
      "text/plain": [
       "  0%|          | 0/10 [00:00<?, ?it/s]"
      ]
     },
     "metadata": {},
     "output_type": "display_data"
    },
    {
     "name": "stdout",
     "output_type": "stream",
     "text": [
      "epoch 29, loss: 0.5983326733112335\n",
      "Dev F1 0.9473684210526315\n"
     ]
    },
    {
     "data": {
      "application/vnd.jupyter.widget-view+json": {
       "model_id": "9bbf945d5abd404a995825d0e87e354e",
       "version_major": 2,
       "version_minor": 0
      },
      "text/plain": [
       "  0%|          | 0/10 [00:00<?, ?it/s]"
      ]
     },
     "metadata": {},
     "output_type": "display_data"
    },
    {
     "name": "stdout",
     "output_type": "stream",
     "text": [
      "epoch 30, loss: 0.595631194114685\n",
      "Dev F1 0.9473684210526315\n"
     ]
    },
    {
     "data": {
      "application/vnd.jupyter.widget-view+json": {
       "model_id": "138c1665f161404aa198e4cc48167361",
       "version_major": 2,
       "version_minor": 0
      },
      "text/plain": [
       "  0%|          | 0/10 [00:00<?, ?it/s]"
      ]
     },
     "metadata": {},
     "output_type": "display_data"
    },
    {
     "name": "stdout",
     "output_type": "stream",
     "text": [
      "epoch 31, loss: 0.5929605066776276\n",
      "Dev F1 0.9473684210526315\n"
     ]
    },
    {
     "data": {
      "application/vnd.jupyter.widget-view+json": {
       "model_id": "5553f53c73924909abbba832ab07d1b9",
       "version_major": 2,
       "version_minor": 0
      },
      "text/plain": [
       "  0%|          | 0/10 [00:00<?, ?it/s]"
      ]
     },
     "metadata": {},
     "output_type": "display_data"
    },
    {
     "name": "stdout",
     "output_type": "stream",
     "text": [
      "epoch 32, loss: 0.5903201460838318\n",
      "Dev F1 0.9473684210526315\n"
     ]
    },
    {
     "data": {
      "application/vnd.jupyter.widget-view+json": {
       "model_id": "93340340e3c94da29cc0663fea4b6618",
       "version_major": 2,
       "version_minor": 0
      },
      "text/plain": [
       "  0%|          | 0/10 [00:00<?, ?it/s]"
      ]
     },
     "metadata": {},
     "output_type": "display_data"
    },
    {
     "name": "stdout",
     "output_type": "stream",
     "text": [
      "epoch 33, loss: 0.5877096772193908\n",
      "Dev F1 0.9473684210526315\n"
     ]
    },
    {
     "data": {
      "application/vnd.jupyter.widget-view+json": {
       "model_id": "ea967cf90ae54abbbd0b39aad038bd63",
       "version_major": 2,
       "version_minor": 0
      },
      "text/plain": [
       "  0%|          | 0/10 [00:00<?, ?it/s]"
      ]
     },
     "metadata": {},
     "output_type": "display_data"
    },
    {
     "name": "stdout",
     "output_type": "stream",
     "text": [
      "epoch 34, loss: 0.5851286709308624\n",
      "Dev F1 0.9473684210526315\n"
     ]
    },
    {
     "data": {
      "application/vnd.jupyter.widget-view+json": {
       "model_id": "d4939e8af01b4c56bef2354c366445da",
       "version_major": 2,
       "version_minor": 0
      },
      "text/plain": [
       "  0%|          | 0/10 [00:00<?, ?it/s]"
      ]
     },
     "metadata": {},
     "output_type": "display_data"
    },
    {
     "name": "stdout",
     "output_type": "stream",
     "text": [
      "epoch 35, loss: 0.5825767397880555\n",
      "Dev F1 0.9473684210526315\n"
     ]
    },
    {
     "data": {
      "application/vnd.jupyter.widget-view+json": {
       "model_id": "1e6e6ff56e5940f79f127ad4a19d9f99",
       "version_major": 2,
       "version_minor": 0
      },
      "text/plain": [
       "  0%|          | 0/10 [00:00<?, ?it/s]"
      ]
     },
     "metadata": {},
     "output_type": "display_data"
    },
    {
     "name": "stdout",
     "output_type": "stream",
     "text": [
      "epoch 36, loss: 0.5800534546375274\n",
      "Dev F1 0.9473684210526315\n"
     ]
    },
    {
     "data": {
      "application/vnd.jupyter.widget-view+json": {
       "model_id": "30775f9d02ff48cc9aa1b15fec300db7",
       "version_major": 2,
       "version_minor": 0
      },
      "text/plain": [
       "  0%|          | 0/10 [00:00<?, ?it/s]"
      ]
     },
     "metadata": {},
     "output_type": "display_data"
    },
    {
     "name": "stdout",
     "output_type": "stream",
     "text": [
      "epoch 37, loss: 0.5775584518909455\n",
      "Dev F1 0.9473684210526315\n"
     ]
    },
    {
     "data": {
      "application/vnd.jupyter.widget-view+json": {
       "model_id": "97faec8384de4031921a0ab49ed5d352",
       "version_major": 2,
       "version_minor": 0
      },
      "text/plain": [
       "  0%|          | 0/10 [00:00<?, ?it/s]"
      ]
     },
     "metadata": {},
     "output_type": "display_data"
    },
    {
     "name": "stdout",
     "output_type": "stream",
     "text": [
      "epoch 38, loss: 0.5750912427902222\n",
      "Dev F1 0.9473684210526315\n"
     ]
    },
    {
     "data": {
      "application/vnd.jupyter.widget-view+json": {
       "model_id": "a5b3aca3506640e2b778ff24521a11f1",
       "version_major": 2,
       "version_minor": 0
      },
      "text/plain": [
       "  0%|          | 0/10 [00:00<?, ?it/s]"
      ]
     },
     "metadata": {},
     "output_type": "display_data"
    },
    {
     "name": "stdout",
     "output_type": "stream",
     "text": [
      "epoch 39, loss: 0.5726515889167786\n",
      "Dev F1 0.9473684210526315\n"
     ]
    },
    {
     "data": {
      "application/vnd.jupyter.widget-view+json": {
       "model_id": "3c505f707c8d41a890a7ac08a614a864",
       "version_major": 2,
       "version_minor": 0
      },
      "text/plain": [
       "  0%|          | 0/10 [00:00<?, ?it/s]"
      ]
     },
     "metadata": {},
     "output_type": "display_data"
    },
    {
     "name": "stdout",
     "output_type": "stream",
     "text": [
      "epoch 40, loss: 0.5702390432357788\n",
      "Dev F1 0.9473684210526315\n"
     ]
    },
    {
     "data": {
      "application/vnd.jupyter.widget-view+json": {
       "model_id": "0820fce474b84ca380c3317dba9581e0",
       "version_major": 2,
       "version_minor": 0
      },
      "text/plain": [
       "  0%|          | 0/10 [00:00<?, ?it/s]"
      ]
     },
     "metadata": {},
     "output_type": "display_data"
    },
    {
     "name": "stdout",
     "output_type": "stream",
     "text": [
      "epoch 41, loss: 0.5678531944751739\n",
      "Dev F1 0.9473684210526315\n"
     ]
    },
    {
     "data": {
      "application/vnd.jupyter.widget-view+json": {
       "model_id": "c67700cc42e3428c9c207bf5f9761ab0",
       "version_major": 2,
       "version_minor": 0
      },
      "text/plain": [
       "  0%|          | 0/10 [00:00<?, ?it/s]"
      ]
     },
     "metadata": {},
     "output_type": "display_data"
    },
    {
     "name": "stdout",
     "output_type": "stream",
     "text": [
      "epoch 42, loss: 0.5654937207698822\n",
      "Dev F1 0.9473684210526315\n"
     ]
    },
    {
     "data": {
      "application/vnd.jupyter.widget-view+json": {
       "model_id": "bfeca5dfe6b24dfe8a9d412a92ca155c",
       "version_major": 2,
       "version_minor": 0
      },
      "text/plain": [
       "  0%|          | 0/10 [00:00<?, ?it/s]"
      ]
     },
     "metadata": {},
     "output_type": "display_data"
    },
    {
     "name": "stdout",
     "output_type": "stream",
     "text": [
      "epoch 43, loss: 0.5631602823734283\n",
      "Dev F1 0.9473684210526315\n"
     ]
    },
    {
     "data": {
      "application/vnd.jupyter.widget-view+json": {
       "model_id": "b95364fa27474a71b9eacd2d5cb7e128",
       "version_major": 2,
       "version_minor": 0
      },
      "text/plain": [
       "  0%|          | 0/10 [00:00<?, ?it/s]"
      ]
     },
     "metadata": {},
     "output_type": "display_data"
    },
    {
     "name": "stdout",
     "output_type": "stream",
     "text": [
      "epoch 44, loss: 0.5608524918556214\n",
      "Dev F1 0.9473684210526315\n"
     ]
    },
    {
     "data": {
      "application/vnd.jupyter.widget-view+json": {
       "model_id": "b05e77cadadf45b581ef331f38d54068",
       "version_major": 2,
       "version_minor": 0
      },
      "text/plain": [
       "  0%|          | 0/10 [00:00<?, ?it/s]"
      ]
     },
     "metadata": {},
     "output_type": "display_data"
    },
    {
     "name": "stdout",
     "output_type": "stream",
     "text": [
      "epoch 45, loss: 0.5585700035095215\n",
      "Dev F1 0.9473684210526315\n"
     ]
    },
    {
     "data": {
      "application/vnd.jupyter.widget-view+json": {
       "model_id": "43f7dd27c5af47809b6d4d251a77a4d2",
       "version_major": 2,
       "version_minor": 0
      },
      "text/plain": [
       "  0%|          | 0/10 [00:00<?, ?it/s]"
      ]
     },
     "metadata": {},
     "output_type": "display_data"
    },
    {
     "name": "stdout",
     "output_type": "stream",
     "text": [
      "epoch 46, loss: 0.556312519311905\n",
      "Dev F1 0.9473684210526315\n"
     ]
    },
    {
     "data": {
      "application/vnd.jupyter.widget-view+json": {
       "model_id": "cec69bbb7a2a476297f179e31e901bd4",
       "version_major": 2,
       "version_minor": 0
      },
      "text/plain": [
       "  0%|          | 0/10 [00:00<?, ?it/s]"
      ]
     },
     "metadata": {},
     "output_type": "display_data"
    },
    {
     "name": "stdout",
     "output_type": "stream",
     "text": [
      "epoch 47, loss: 0.554079657793045\n",
      "Dev F1 0.9473684210526315\n"
     ]
    },
    {
     "data": {
      "application/vnd.jupyter.widget-view+json": {
       "model_id": "16b1e75ee5cd4f38bee70c78ec66220d",
       "version_major": 2,
       "version_minor": 0
      },
      "text/plain": [
       "  0%|          | 0/10 [00:00<?, ?it/s]"
      ]
     },
     "metadata": {},
     "output_type": "display_data"
    },
    {
     "name": "stdout",
     "output_type": "stream",
     "text": [
      "epoch 48, loss: 0.5518710851669312\n",
      "Dev F1 0.9473684210526315\n"
     ]
    },
    {
     "data": {
      "application/vnd.jupyter.widget-view+json": {
       "model_id": "9d3b61049d3541f692f8029adfea208e",
       "version_major": 2,
       "version_minor": 0
      },
      "text/plain": [
       "  0%|          | 0/10 [00:00<?, ?it/s]"
      ]
     },
     "metadata": {},
     "output_type": "display_data"
    },
    {
     "name": "stdout",
     "output_type": "stream",
     "text": [
      "epoch 49, loss: 0.5496865689754487\n",
      "Dev F1 0.9473684210526315\n"
     ]
    },
    {
     "data": {
      "application/vnd.jupyter.widget-view+json": {
       "model_id": "43e5eafac8e041e7a206008c8139cbdb",
       "version_major": 2,
       "version_minor": 0
      },
      "text/plain": [
       "  0%|          | 0/10 [00:00<?, ?it/s]"
      ]
     },
     "metadata": {},
     "output_type": "display_data"
    },
    {
     "name": "stdout",
     "output_type": "stream",
     "text": [
      "epoch 50, loss: 0.5475256979465485\n",
      "Dev F1 0.9473684210526315\n"
     ]
    },
    {
     "data": {
      "application/vnd.jupyter.widget-view+json": {
       "model_id": "06961690dec245dfac588946172c5405",
       "version_major": 2,
       "version_minor": 0
      },
      "text/plain": [
       "  0%|          | 0/10 [00:00<?, ?it/s]"
      ]
     },
     "metadata": {},
     "output_type": "display_data"
    },
    {
     "name": "stdout",
     "output_type": "stream",
     "text": [
      "epoch 51, loss: 0.5453882038593292\n",
      "Dev F1 0.9473684210526315\n"
     ]
    },
    {
     "data": {
      "application/vnd.jupyter.widget-view+json": {
       "model_id": "196a6904b1004698ae73a944264a2747",
       "version_major": 2,
       "version_minor": 0
      },
      "text/plain": [
       "  0%|          | 0/10 [00:00<?, ?it/s]"
      ]
     },
     "metadata": {},
     "output_type": "display_data"
    },
    {
     "name": "stdout",
     "output_type": "stream",
     "text": [
      "epoch 52, loss: 0.5432737410068512\n",
      "Dev F1 0.9473684210526315\n"
     ]
    },
    {
     "data": {
      "application/vnd.jupyter.widget-view+json": {
       "model_id": "0e41a432ca894a10959e6a1258620d2c",
       "version_major": 2,
       "version_minor": 0
      },
      "text/plain": [
       "  0%|          | 0/10 [00:00<?, ?it/s]"
      ]
     },
     "metadata": {},
     "output_type": "display_data"
    },
    {
     "name": "stdout",
     "output_type": "stream",
     "text": [
      "epoch 53, loss: 0.541182005405426\n",
      "Dev F1 0.9473684210526315\n"
     ]
    },
    {
     "data": {
      "application/vnd.jupyter.widget-view+json": {
       "model_id": "547cfd26f5034554b63e0b0b5f12664f",
       "version_major": 2,
       "version_minor": 0
      },
      "text/plain": [
       "  0%|          | 0/10 [00:00<?, ?it/s]"
      ]
     },
     "metadata": {},
     "output_type": "display_data"
    },
    {
     "name": "stdout",
     "output_type": "stream",
     "text": [
      "epoch 54, loss: 0.5391126811504364\n",
      "Dev F1 0.972972972972973\n"
     ]
    },
    {
     "data": {
      "application/vnd.jupyter.widget-view+json": {
       "model_id": "ab2ad44bf04c4e988571ddd53de3a1aa",
       "version_major": 2,
       "version_minor": 0
      },
      "text/plain": [
       "  0%|          | 0/10 [00:00<?, ?it/s]"
      ]
     },
     "metadata": {},
     "output_type": "display_data"
    },
    {
     "name": "stdout",
     "output_type": "stream",
     "text": [
      "epoch 55, loss: 0.5370655626058578\n",
      "Dev F1 0.972972972972973\n"
     ]
    },
    {
     "data": {
      "application/vnd.jupyter.widget-view+json": {
       "model_id": "34e4a30799504396be30fe98a1d74f87",
       "version_major": 2,
       "version_minor": 0
      },
      "text/plain": [
       "  0%|          | 0/10 [00:00<?, ?it/s]"
      ]
     },
     "metadata": {},
     "output_type": "display_data"
    },
    {
     "name": "stdout",
     "output_type": "stream",
     "text": [
      "epoch 56, loss: 0.5350402414798736\n",
      "Dev F1 0.972972972972973\n"
     ]
    },
    {
     "data": {
      "application/vnd.jupyter.widget-view+json": {
       "model_id": "c383e935036f49f4a07584d040954a75",
       "version_major": 2,
       "version_minor": 0
      },
      "text/plain": [
       "  0%|          | 0/10 [00:00<?, ?it/s]"
      ]
     },
     "metadata": {},
     "output_type": "display_data"
    },
    {
     "name": "stdout",
     "output_type": "stream",
     "text": [
      "epoch 57, loss: 0.5330365061759949\n",
      "Dev F1 0.972972972972973\n"
     ]
    },
    {
     "data": {
      "application/vnd.jupyter.widget-view+json": {
       "model_id": "76b04d7291764c52b48ade87d5d988f4",
       "version_major": 2,
       "version_minor": 0
      },
      "text/plain": [
       "  0%|          | 0/10 [00:00<?, ?it/s]"
      ]
     },
     "metadata": {},
     "output_type": "display_data"
    },
    {
     "name": "stdout",
     "output_type": "stream",
     "text": [
      "epoch 58, loss: 0.5310539990663529\n",
      "Dev F1 0.972972972972973\n"
     ]
    },
    {
     "data": {
      "application/vnd.jupyter.widget-view+json": {
       "model_id": "4d86988f9cd54c9fa69da3e42212e869",
       "version_major": 2,
       "version_minor": 0
      },
      "text/plain": [
       "  0%|          | 0/10 [00:00<?, ?it/s]"
      ]
     },
     "metadata": {},
     "output_type": "display_data"
    },
    {
     "name": "stdout",
     "output_type": "stream",
     "text": [
      "epoch 59, loss: 0.5290925025939941\n",
      "Dev F1 0.972972972972973\n"
     ]
    },
    {
     "data": {
      "application/vnd.jupyter.widget-view+json": {
       "model_id": "6c6aa525607b4ceea027a9796180f20c",
       "version_major": 2,
       "version_minor": 0
      },
      "text/plain": [
       "  0%|          | 0/10 [00:00<?, ?it/s]"
      ]
     },
     "metadata": {},
     "output_type": "display_data"
    },
    {
     "name": "stdout",
     "output_type": "stream",
     "text": [
      "epoch 60, loss: 0.5271517395973205\n",
      "Dev F1 0.972972972972973\n"
     ]
    },
    {
     "data": {
      "application/vnd.jupyter.widget-view+json": {
       "model_id": "bc0dd78c9cc8441a86848264a1ba84f7",
       "version_major": 2,
       "version_minor": 0
      },
      "text/plain": [
       "  0%|          | 0/10 [00:00<?, ?it/s]"
      ]
     },
     "metadata": {},
     "output_type": "display_data"
    },
    {
     "name": "stdout",
     "output_type": "stream",
     "text": [
      "epoch 61, loss: 0.5252314209938049\n",
      "Dev F1 0.972972972972973\n"
     ]
    },
    {
     "data": {
      "application/vnd.jupyter.widget-view+json": {
       "model_id": "ab1f178736a84d928165b021dba3689f",
       "version_major": 2,
       "version_minor": 0
      },
      "text/plain": [
       "  0%|          | 0/10 [00:00<?, ?it/s]"
      ]
     },
     "metadata": {},
     "output_type": "display_data"
    },
    {
     "name": "stdout",
     "output_type": "stream",
     "text": [
      "epoch 62, loss: 0.523331242799759\n",
      "Dev F1 0.972972972972973\n"
     ]
    },
    {
     "data": {
      "application/vnd.jupyter.widget-view+json": {
       "model_id": "010f2a2d872041448c72f4d9538558b3",
       "version_major": 2,
       "version_minor": 0
      },
      "text/plain": [
       "  0%|          | 0/10 [00:00<?, ?it/s]"
      ]
     },
     "metadata": {},
     "output_type": "display_data"
    },
    {
     "name": "stdout",
     "output_type": "stream",
     "text": [
      "epoch 63, loss: 0.5214510381221771\n",
      "Dev F1 0.972972972972973\n"
     ]
    },
    {
     "data": {
      "application/vnd.jupyter.widget-view+json": {
       "model_id": "6bc990956dcb4270a82b058e41187ac7",
       "version_major": 2,
       "version_minor": 0
      },
      "text/plain": [
       "  0%|          | 0/10 [00:00<?, ?it/s]"
      ]
     },
     "metadata": {},
     "output_type": "display_data"
    },
    {
     "name": "stdout",
     "output_type": "stream",
     "text": [
      "epoch 64, loss: 0.5195904612541199\n",
      "Dev F1 0.972972972972973\n"
     ]
    },
    {
     "data": {
      "application/vnd.jupyter.widget-view+json": {
       "model_id": "d6ef9cfee21b4ef880434af39e8f769e",
       "version_major": 2,
       "version_minor": 0
      },
      "text/plain": [
       "  0%|          | 0/10 [00:00<?, ?it/s]"
      ]
     },
     "metadata": {},
     "output_type": "display_data"
    },
    {
     "name": "stdout",
     "output_type": "stream",
     "text": [
      "epoch 65, loss: 0.5177492588758469\n",
      "Dev F1 0.972972972972973\n"
     ]
    },
    {
     "data": {
      "application/vnd.jupyter.widget-view+json": {
       "model_id": "4c8487305fb143239f5cb4ebda327543",
       "version_major": 2,
       "version_minor": 0
      },
      "text/plain": [
       "  0%|          | 0/10 [00:00<?, ?it/s]"
      ]
     },
     "metadata": {},
     "output_type": "display_data"
    },
    {
     "name": "stdout",
     "output_type": "stream",
     "text": [
      "epoch 66, loss: 0.5159272104501724\n",
      "Dev F1 0.972972972972973\n"
     ]
    },
    {
     "data": {
      "application/vnd.jupyter.widget-view+json": {
       "model_id": "a622c19aed6f4e58aeeaec8c4cb15756",
       "version_major": 2,
       "version_minor": 0
      },
      "text/plain": [
       "  0%|          | 0/10 [00:00<?, ?it/s]"
      ]
     },
     "metadata": {},
     "output_type": "display_data"
    },
    {
     "name": "stdout",
     "output_type": "stream",
     "text": [
      "epoch 67, loss: 0.514124071598053\n",
      "Dev F1 0.972972972972973\n"
     ]
    },
    {
     "data": {
      "application/vnd.jupyter.widget-view+json": {
       "model_id": "3c379940e1c24819b4355f34a5f38dd2",
       "version_major": 2,
       "version_minor": 0
      },
      "text/plain": [
       "  0%|          | 0/10 [00:00<?, ?it/s]"
      ]
     },
     "metadata": {},
     "output_type": "display_data"
    },
    {
     "name": "stdout",
     "output_type": "stream",
     "text": [
      "epoch 68, loss: 0.5123395681381225\n",
      "Dev F1 0.972972972972973\n"
     ]
    },
    {
     "data": {
      "application/vnd.jupyter.widget-view+json": {
       "model_id": "92e42b31748442ad9713f6e259f49e3d",
       "version_major": 2,
       "version_minor": 0
      },
      "text/plain": [
       "  0%|          | 0/10 [00:00<?, ?it/s]"
      ]
     },
     "metadata": {},
     "output_type": "display_data"
    },
    {
     "name": "stdout",
     "output_type": "stream",
     "text": [
      "epoch 69, loss: 0.510573434829712\n",
      "Dev F1 0.972972972972973\n"
     ]
    },
    {
     "data": {
      "application/vnd.jupyter.widget-view+json": {
       "model_id": "0a5acb96f04d4ec2bb646db42f1bc9df",
       "version_major": 2,
       "version_minor": 0
      },
      "text/plain": [
       "  0%|          | 0/10 [00:00<?, ?it/s]"
      ]
     },
     "metadata": {},
     "output_type": "display_data"
    },
    {
     "name": "stdout",
     "output_type": "stream",
     "text": [
      "epoch 70, loss: 0.5088254779577255\n",
      "Dev F1 0.972972972972973\n"
     ]
    },
    {
     "data": {
      "application/vnd.jupyter.widget-view+json": {
       "model_id": "e593540069e24969a8f2da4a0ce472d2",
       "version_major": 2,
       "version_minor": 0
      },
      "text/plain": [
       "  0%|          | 0/10 [00:00<?, ?it/s]"
      ]
     },
     "metadata": {},
     "output_type": "display_data"
    },
    {
     "name": "stdout",
     "output_type": "stream",
     "text": [
      "epoch 71, loss: 0.5070954620838165\n",
      "Dev F1 0.972972972972973\n"
     ]
    },
    {
     "data": {
      "application/vnd.jupyter.widget-view+json": {
       "model_id": "b36f8616b9be48edbb257a7f048f2736",
       "version_major": 2,
       "version_minor": 0
      },
      "text/plain": [
       "  0%|          | 0/10 [00:00<?, ?it/s]"
      ]
     },
     "metadata": {},
     "output_type": "display_data"
    },
    {
     "name": "stdout",
     "output_type": "stream",
     "text": [
      "epoch 72, loss: 0.5053831309080123\n",
      "Dev F1 0.972972972972973\n"
     ]
    },
    {
     "data": {
      "application/vnd.jupyter.widget-view+json": {
       "model_id": "9fd2d131f99042709af5411b74472805",
       "version_major": 2,
       "version_minor": 0
      },
      "text/plain": [
       "  0%|          | 0/10 [00:00<?, ?it/s]"
      ]
     },
     "metadata": {},
     "output_type": "display_data"
    },
    {
     "name": "stdout",
     "output_type": "stream",
     "text": [
      "epoch 73, loss: 0.5036882638931275\n",
      "Dev F1 0.972972972972973\n"
     ]
    },
    {
     "data": {
      "application/vnd.jupyter.widget-view+json": {
       "model_id": "e0fd4968d81f4d97ba28de08f119a53f",
       "version_major": 2,
       "version_minor": 0
      },
      "text/plain": [
       "  0%|          | 0/10 [00:00<?, ?it/s]"
      ]
     },
     "metadata": {},
     "output_type": "display_data"
    },
    {
     "name": "stdout",
     "output_type": "stream",
     "text": [
      "epoch 74, loss: 0.5020106375217438\n",
      "Dev F1 0.972972972972973\n"
     ]
    },
    {
     "data": {
      "application/vnd.jupyter.widget-view+json": {
       "model_id": "0d1b17ede70846a582e1193a80cdd7d4",
       "version_major": 2,
       "version_minor": 0
      },
      "text/plain": [
       "  0%|          | 0/10 [00:00<?, ?it/s]"
      ]
     },
     "metadata": {},
     "output_type": "display_data"
    },
    {
     "name": "stdout",
     "output_type": "stream",
     "text": [
      "epoch 75, loss: 0.5003500491380691\n",
      "Dev F1 0.972972972972973\n"
     ]
    },
    {
     "data": {
      "application/vnd.jupyter.widget-view+json": {
       "model_id": "8551ffffd5a642c2a6608e6df90cf911",
       "version_major": 2,
       "version_minor": 0
      },
      "text/plain": [
       "  0%|          | 0/10 [00:00<?, ?it/s]"
      ]
     },
     "metadata": {},
     "output_type": "display_data"
    },
    {
     "name": "stdout",
     "output_type": "stream",
     "text": [
      "epoch 76, loss: 0.4987062007188797\n",
      "Dev F1 0.972972972972973\n"
     ]
    },
    {
     "data": {
      "application/vnd.jupyter.widget-view+json": {
       "model_id": "7cd99245be5d48aabcc56c46f56d2cd7",
       "version_major": 2,
       "version_minor": 0
      },
      "text/plain": [
       "  0%|          | 0/10 [00:00<?, ?it/s]"
      ]
     },
     "metadata": {},
     "output_type": "display_data"
    },
    {
     "name": "stdout",
     "output_type": "stream",
     "text": [
      "epoch 77, loss: 0.4970789611339569\n",
      "Dev F1 0.972972972972973\n"
     ]
    },
    {
     "data": {
      "application/vnd.jupyter.widget-view+json": {
       "model_id": "deec5d6c25a946dab2e751feb663a43d",
       "version_major": 2,
       "version_minor": 0
      },
      "text/plain": [
       "  0%|          | 0/10 [00:00<?, ?it/s]"
      ]
     },
     "metadata": {},
     "output_type": "display_data"
    },
    {
     "name": "stdout",
     "output_type": "stream",
     "text": [
      "epoch 78, loss: 0.49546812772750853\n",
      "Dev F1 0.972972972972973\n"
     ]
    },
    {
     "data": {
      "application/vnd.jupyter.widget-view+json": {
       "model_id": "3ca3d5c937b544bfbb93db282c6d2914",
       "version_major": 2,
       "version_minor": 0
      },
      "text/plain": [
       "  0%|          | 0/10 [00:00<?, ?it/s]"
      ]
     },
     "metadata": {},
     "output_type": "display_data"
    },
    {
     "name": "stdout",
     "output_type": "stream",
     "text": [
      "epoch 79, loss: 0.4938734173774719\n",
      "Dev F1 0.972972972972973\n"
     ]
    },
    {
     "data": {
      "application/vnd.jupyter.widget-view+json": {
       "model_id": "bf706519220049e0aa0aef46d814f336",
       "version_major": 2,
       "version_minor": 0
      },
      "text/plain": [
       "  0%|          | 0/10 [00:00<?, ?it/s]"
      ]
     },
     "metadata": {},
     "output_type": "display_data"
    },
    {
     "name": "stdout",
     "output_type": "stream",
     "text": [
      "epoch 80, loss: 0.49229462444782257\n",
      "Dev F1 0.972972972972973\n"
     ]
    },
    {
     "data": {
      "application/vnd.jupyter.widget-view+json": {
       "model_id": "1110cb06d6ae4ab9a9344dcc85b2bf1d",
       "version_major": 2,
       "version_minor": 0
      },
      "text/plain": [
       "  0%|          | 0/10 [00:00<?, ?it/s]"
      ]
     },
     "metadata": {},
     "output_type": "display_data"
    },
    {
     "name": "stdout",
     "output_type": "stream",
     "text": [
      "epoch 81, loss: 0.49073159098625185\n",
      "Dev F1 0.972972972972973\n"
     ]
    },
    {
     "data": {
      "application/vnd.jupyter.widget-view+json": {
       "model_id": "c5cf401879594db6a7394e2858763873",
       "version_major": 2,
       "version_minor": 0
      },
      "text/plain": [
       "  0%|          | 0/10 [00:00<?, ?it/s]"
      ]
     },
     "metadata": {},
     "output_type": "display_data"
    },
    {
     "name": "stdout",
     "output_type": "stream",
     "text": [
      "epoch 82, loss: 0.4891841173171997\n",
      "Dev F1 0.972972972972973\n"
     ]
    },
    {
     "data": {
      "application/vnd.jupyter.widget-view+json": {
       "model_id": "d3cbe066215048199ca2eac26cb5daa7",
       "version_major": 2,
       "version_minor": 0
      },
      "text/plain": [
       "  0%|          | 0/10 [00:00<?, ?it/s]"
      ]
     },
     "metadata": {},
     "output_type": "display_data"
    },
    {
     "name": "stdout",
     "output_type": "stream",
     "text": [
      "epoch 83, loss: 0.48765195310115816\n",
      "Dev F1 0.972972972972973\n"
     ]
    },
    {
     "data": {
      "application/vnd.jupyter.widget-view+json": {
       "model_id": "7f593ae52be3418e8165d88ea1b39be0",
       "version_major": 2,
       "version_minor": 0
      },
      "text/plain": [
       "  0%|          | 0/10 [00:00<?, ?it/s]"
      ]
     },
     "metadata": {},
     "output_type": "display_data"
    },
    {
     "name": "stdout",
     "output_type": "stream",
     "text": [
      "epoch 84, loss: 0.4861349523067474\n",
      "Dev F1 0.972972972972973\n"
     ]
    },
    {
     "data": {
      "application/vnd.jupyter.widget-view+json": {
       "model_id": "6d41391f82834964ba932e4876b3a551",
       "version_major": 2,
       "version_minor": 0
      },
      "text/plain": [
       "  0%|          | 0/10 [00:00<?, ?it/s]"
      ]
     },
     "metadata": {},
     "output_type": "display_data"
    },
    {
     "name": "stdout",
     "output_type": "stream",
     "text": [
      "epoch 85, loss: 0.4846329212188721\n",
      "Dev F1 0.972972972972973\n"
     ]
    },
    {
     "data": {
      "application/vnd.jupyter.widget-view+json": {
       "model_id": "f229f997640c43fc88ac71f6d6e059af",
       "version_major": 2,
       "version_minor": 0
      },
      "text/plain": [
       "  0%|          | 0/10 [00:00<?, ?it/s]"
      ]
     },
     "metadata": {},
     "output_type": "display_data"
    },
    {
     "name": "stdout",
     "output_type": "stream",
     "text": [
      "epoch 86, loss: 0.4831456273794174\n",
      "Dev F1 0.972972972972973\n"
     ]
    },
    {
     "data": {
      "application/vnd.jupyter.widget-view+json": {
       "model_id": "e3306d10533d43c4b8cc79986484146a",
       "version_major": 2,
       "version_minor": 0
      },
      "text/plain": [
       "  0%|          | 0/10 [00:00<?, ?it/s]"
      ]
     },
     "metadata": {},
     "output_type": "display_data"
    },
    {
     "name": "stdout",
     "output_type": "stream",
     "text": [
      "epoch 87, loss: 0.481672927737236\n",
      "Dev F1 0.972972972972973\n"
     ]
    },
    {
     "data": {
      "application/vnd.jupyter.widget-view+json": {
       "model_id": "58dd8eee27764d15ba4de8abd100efbc",
       "version_major": 2,
       "version_minor": 0
      },
      "text/plain": [
       "  0%|          | 0/10 [00:00<?, ?it/s]"
      ]
     },
     "metadata": {},
     "output_type": "display_data"
    },
    {
     "name": "stdout",
     "output_type": "stream",
     "text": [
      "epoch 88, loss: 0.48021461963653567\n",
      "Dev F1 0.972972972972973\n"
     ]
    },
    {
     "data": {
      "application/vnd.jupyter.widget-view+json": {
       "model_id": "492f8b2b90f046c2bd90975b792a2d97",
       "version_major": 2,
       "version_minor": 0
      },
      "text/plain": [
       "  0%|          | 0/10 [00:00<?, ?it/s]"
      ]
     },
     "metadata": {},
     "output_type": "display_data"
    },
    {
     "name": "stdout",
     "output_type": "stream",
     "text": [
      "epoch 89, loss: 0.47877052128314973\n",
      "Dev F1 0.972972972972973\n"
     ]
    },
    {
     "data": {
      "application/vnd.jupyter.widget-view+json": {
       "model_id": "2f5a4c6a72df4b81b67f6cbfb179c1d5",
       "version_major": 2,
       "version_minor": 0
      },
      "text/plain": [
       "  0%|          | 0/10 [00:00<?, ?it/s]"
      ]
     },
     "metadata": {},
     "output_type": "display_data"
    },
    {
     "name": "stdout",
     "output_type": "stream",
     "text": [
      "epoch 90, loss: 0.47734046578407285\n",
      "Dev F1 0.972972972972973\n"
     ]
    },
    {
     "data": {
      "application/vnd.jupyter.widget-view+json": {
       "model_id": "a0905a502d924032a66f5257a17c4d7b",
       "version_major": 2,
       "version_minor": 0
      },
      "text/plain": [
       "  0%|          | 0/10 [00:00<?, ?it/s]"
      ]
     },
     "metadata": {},
     "output_type": "display_data"
    },
    {
     "name": "stdout",
     "output_type": "stream",
     "text": [
      "epoch 91, loss: 0.47592424154281615\n",
      "Dev F1 0.972972972972973\n"
     ]
    },
    {
     "data": {
      "application/vnd.jupyter.widget-view+json": {
       "model_id": "693e04e233af4e2a8402e32f4f30e05a",
       "version_major": 2,
       "version_minor": 0
      },
      "text/plain": [
       "  0%|          | 0/10 [00:00<?, ?it/s]"
      ]
     },
     "metadata": {},
     "output_type": "display_data"
    },
    {
     "name": "stdout",
     "output_type": "stream",
     "text": [
      "epoch 92, loss: 0.47452170252799986\n",
      "Dev F1 0.972972972972973\n"
     ]
    },
    {
     "data": {
      "application/vnd.jupyter.widget-view+json": {
       "model_id": "53677ea2c6c2403fbb61511f49b7427f",
       "version_major": 2,
       "version_minor": 0
      },
      "text/plain": [
       "  0%|          | 0/10 [00:00<?, ?it/s]"
      ]
     },
     "metadata": {},
     "output_type": "display_data"
    },
    {
     "name": "stdout",
     "output_type": "stream",
     "text": [
      "epoch 93, loss: 0.4731326550245285\n",
      "Dev F1 0.972972972972973\n"
     ]
    },
    {
     "data": {
      "application/vnd.jupyter.widget-view+json": {
       "model_id": "a51ba767388d4097876666b8a1105c64",
       "version_major": 2,
       "version_minor": 0
      },
      "text/plain": [
       "  0%|          | 0/10 [00:00<?, ?it/s]"
      ]
     },
     "metadata": {},
     "output_type": "display_data"
    },
    {
     "name": "stdout",
     "output_type": "stream",
     "text": [
      "epoch 94, loss: 0.4717570036649704\n",
      "Dev F1 0.972972972972973\n"
     ]
    },
    {
     "data": {
      "application/vnd.jupyter.widget-view+json": {
       "model_id": "fc4013a903284465ae27c5e3caa879eb",
       "version_major": 2,
       "version_minor": 0
      },
      "text/plain": [
       "  0%|          | 0/10 [00:00<?, ?it/s]"
      ]
     },
     "metadata": {},
     "output_type": "display_data"
    },
    {
     "name": "stdout",
     "output_type": "stream",
     "text": [
      "epoch 95, loss: 0.4703944712877274\n",
      "Dev F1 0.972972972972973\n"
     ]
    },
    {
     "data": {
      "application/vnd.jupyter.widget-view+json": {
       "model_id": "b651752deb3d411a94e015363a368f44",
       "version_major": 2,
       "version_minor": 0
      },
      "text/plain": [
       "  0%|          | 0/10 [00:00<?, ?it/s]"
      ]
     },
     "metadata": {},
     "output_type": "display_data"
    },
    {
     "name": "stdout",
     "output_type": "stream",
     "text": [
      "epoch 96, loss: 0.4690449833869934\n",
      "Dev F1 0.972972972972973\n"
     ]
    },
    {
     "data": {
      "application/vnd.jupyter.widget-view+json": {
       "model_id": "3aed6ef3053644cdbf1a6b2b665fd3e5",
       "version_major": 2,
       "version_minor": 0
      },
      "text/plain": [
       "  0%|          | 0/10 [00:00<?, ?it/s]"
      ]
     },
     "metadata": {},
     "output_type": "display_data"
    },
    {
     "name": "stdout",
     "output_type": "stream",
     "text": [
      "epoch 97, loss: 0.46770833134651185\n",
      "Dev F1 0.972972972972973\n"
     ]
    },
    {
     "data": {
      "application/vnd.jupyter.widget-view+json": {
       "model_id": "148ddb1cb0db4366bb902a0115d96cf8",
       "version_major": 2,
       "version_minor": 0
      },
      "text/plain": [
       "  0%|          | 0/10 [00:00<?, ?it/s]"
      ]
     },
     "metadata": {},
     "output_type": "display_data"
    },
    {
     "name": "stdout",
     "output_type": "stream",
     "text": [
      "epoch 98, loss: 0.4663843274116516\n",
      "Dev F1 0.972972972972973\n"
     ]
    },
    {
     "data": {
      "application/vnd.jupyter.widget-view+json": {
       "model_id": "c7169d4270304eefa04aa112fd8fdaec",
       "version_major": 2,
       "version_minor": 0
      },
      "text/plain": [
       "  0%|          | 0/10 [00:00<?, ?it/s]"
      ]
     },
     "metadata": {},
     "output_type": "display_data"
    },
    {
     "name": "stdout",
     "output_type": "stream",
     "text": [
      "epoch 99, loss: 0.4650728672742844\n",
      "Dev F1 0.972972972972973\n"
     ]
    }
   ],
   "source": [
    "### DO NOT EDIT ###\n",
    "\n",
    "num_epochs = 100\n",
    "\n",
    "train_features, train_labels_tensor = featurize_data(train_texts, train_labels)\n",
    "train_features = normalize(train_features)\n",
    "dev_features, dev_labels_tensor = featurize_data(dev_texts, dev_labels)\n",
    "dev_features = normalize(dev_features)\n",
    "model = SentimentClassifier(train_features.shape[1]) \n",
    "optimizer = make_optimizer(model, learning_rate=0.01)\n",
    "\n",
    "trained_model = training_loop(\n",
    "    num_epochs,\n",
    "    16,\n",
    "    train_features,\n",
    "    train_labels_tensor,\n",
    "    dev_features,\n",
    "    dev_labels_tensor,\n",
    "    optimizer,\n",
    "    model\n",
    ")"
   ]
  },
  {
   "cell_type": "markdown",
   "metadata": {},
   "source": [
    "### Task 3.7: Get the predictions on the Test Set using the Trained model and print the F1 score (10 Points)"
   ]
  },
  {
   "cell_type": "code",
   "execution_count": 28,
   "metadata": {},
   "outputs": [
    {
     "name": "stdout",
     "output_type": "stream",
     "text": [
      "Logistic Regression Results:\n",
      "Accuracy: 0.9736842105263158\n",
      "F1-score 0.972972972972973\n"
     ]
    }
   ],
   "source": [
    "### DO NOT EDIT ###\n",
    "### DEV SET RESULTS\n",
    "\n",
    "test_features, test_labels = featurize_data(dev_texts, dev_labels)\n",
    "test_features = normalize(test_features)\n",
    "print('Logistic Regression Results:')\n",
    "print('Accuracy:', accuracy(predict(trained_model, test_features), test_labels))\n",
    "print('F1-score', f1_score(predict(trained_model, test_features), test_labels))"
   ]
  },
  {
   "cell_type": "code",
   "execution_count": 29,
   "metadata": {},
   "outputs": [],
   "source": [
    "test_texts, test_labels = load_test_data('./data/HW2-testset.txt')"
   ]
  },
  {
   "cell_type": "code",
   "execution_count": 30,
   "metadata": {},
   "outputs": [
    {
     "name": "stdout",
     "output_type": "stream",
     "text": [
      "Logistic Regression Results:\n",
      "Accuracy: 0.92\n",
      "F1-score 0.923076923076923\n"
     ]
    }
   ],
   "source": [
    "### DO NOT EDIT ###\n",
    "### RUN THIS ONLY ON DEADLINE ###\n",
    "### TEST SET RESULTS\n",
    "\n",
    "test_features, test_labels = featurize_data(test_texts, test_labels)\n",
    "test_features = normalize(test_features)\n",
    "print('Logistic Regression Results:')\n",
    "print('Accuracy:', accuracy(predict(trained_model, test_features), test_labels))\n",
    "print('F1-score', f1_score(predict(trained_model, test_features), test_labels))"
   ]
  },
  {
   "cell_type": "markdown",
   "metadata": {},
   "source": [
    "## Written Assignment (60 Points)"
   ]
  },
  {
   "cell_type": "markdown",
   "metadata": {},
   "source": [
    "Written assignment tests the understanding of the student for the assignment's task. We have split the writing into sections. You will need to write 1-2 paragraphs describing the sections. Please be concise."
   ]
  },
  {
   "cell_type": "markdown",
   "metadata": {},
   "source": [
    "### In your own words, describe what the task is (20 points)"
   ]
  },
  {
   "cell_type": "markdown",
   "metadata": {},
   "source": [
    "The task of Section 3 was to create a logistic regression machine learning model that can accurately predict the sentiment of a user review. This is achieved by transforming text reviews into numerical features, such as the frequency of positive or negative words. Once the features are converted, I can train a logistic regression model to predict positive or negative sentiment. This is accomplished by taking the weighted sum of the features and passing it through a logistic function, which outputs a probability between 0 and 1. A score of 0 is classified as a bad review, and 1 is classified as good."
   ]
  },
  {
   "cell_type": "markdown",
   "metadata": {},
   "source": [
    "### Describe your method for the task (10 points)"
   ]
  },
  {
   "cell_type": "markdown",
   "metadata": {},
   "source": [
    "The two main methods I used for tuning my model were choosing the weights and features. Feature extraction was interesting because I tried adding additional features to the example given, and at times, it made the results worse. As I experimented with weights and the number of features, I found that the pronoun count actually degraded the model's performance. I eventually settled on using only the positive and negative word count, the presence of \"no\" as a boolean, the presence of an exclamation mark as a boolean, and the total word count.\n",
    "\n",
    " I experimented with using all zero initial weights, a Xavier normal distribution of weights, and the Xavier uniform distribution of weights. When I used the normal and uniform distribution of weights, I didn't get consistent scores from my model. Sometimes they were excellent with a 90%+ F1 score, and other times they hovered around 50%. However, when I set the initial weights to zero, my model consistently performed in the high 95%-97%+ range. Thus, I decided to stick with that implementation."
   ]
  },
  {
   "cell_type": "markdown",
   "metadata": {},
   "source": [
    "### Experiment Results (10 points)"
   ]
  },
  {
   "cell_type": "markdown",
   "metadata": {},
   "source": [
    "Experiments:\n",
    "\n",
    "1\n",
    "\n",
    "Initial weights = 0\n",
    "\n",
    "Normal example features\n",
    "\n",
    "Accuracy = 92%\n",
    "\n",
    "F1 = 91%\n",
    "\n",
    "2\n",
    "\n",
    "Initial weights = 0\n",
    "\n",
    "Normal features + all caps word count\n",
    "\n",
    "Accuracy = 97%\n",
    "\n",
    "F1 = 97%\n",
    "\n",
    "3\n",
    "\n",
    "Initial weights = 0\n",
    "\n",
    "Normal features minus pronouns\n",
    "\n",
    "Accuracy = 97%\n",
    "\n",
    "F1 = 97%\n",
    "\n",
    "4\n",
    "\n",
    "Initial weights = 0\n",
    "\n",
    "Normal features + all caps word count + is happy\n",
    "\n",
    "Accuracy = 94%\n",
    "\n",
    "F1 = 94%\n",
    "\n",
    "5\n",
    "\n",
    "Initial weights = 0\n",
    "\n",
    "Normal features + all caps word count + pro noun count\n",
    "\n",
    "Accuracy = 86%\n",
    "\n",
    "F1 = 85%\n",
    "\n",
    "6\n",
    "\n",
    "Initial weights = 0\n",
    "\n",
    "Normal features + pro noun count\n",
    "\n",
    "Accuracy = 92%\n",
    "\n",
    "F1 = 91%\n",
    "\n",
    "7\n",
    "\n",
    "Initial weights = [ 0.0728,  1.4829,  0.3499,  0.3161, -0.6577,  0.0807]\n",
    "\n",
    "Normal features \n",
    "\n",
    "Accuracy: 60%\n",
    "\n",
    "F1-score: 50%"
   ]
  },
  {
   "cell_type": "markdown",
   "metadata": {},
   "source": [
    "### Discussion (20 points)"
   ]
  },
  {
   "cell_type": "markdown",
   "metadata": {},
   "source": [
    "Key takeaway from the assignment. Why is the method good? shortcomings? how would you improve? Additional thoughts?\n",
    "\n",
    "This was a fun assignment. Some of my key takeaways were how important the starting feature weights were to the overall performance of the model. In this particular instance, when the weights were pseudo random each time, the model could end up with a very low or very high F1 score. When I started with weights that were all zero, the score was much more consistent across each trial and was higher, which was interesting to see. I probably could have spent more time on the feature engineering part, but the project was already quite time consuming, so I opted for some minor feature engineering. Another interesting aspect was that I ended up reducing the feature size to a smaller set than what was provided in the examples. This produced a better overall score and, I suppose, reduced the complexity of the model.\n",
    "\n",
    "To improve the model, I bet if we implemented tf-idf, it would enhance the overall performance."
   ]
  }
 ],
 "metadata": {
  "kernelspec": {
   "display_name": "Python 3 (ipykernel)",
   "language": "python",
   "name": "python3"
  },
  "language_info": {
   "codemirror_mode": {
    "name": "ipython",
    "version": 3
   },
   "file_extension": ".py",
   "mimetype": "text/x-python",
   "name": "python",
   "nbconvert_exporter": "python",
   "pygments_lexer": "ipython3",
   "version": "3.11.5"
  }
 },
 "nbformat": 4,
 "nbformat_minor": 4
}
