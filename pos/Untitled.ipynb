{
 "cells": [
  {
   "cell_type": "code",
   "execution_count": 3,
   "id": "10f8e471-1049-4818-9eb0-031aa0a94511",
   "metadata": {},
   "outputs": [
    {
     "name": "stdout",
     "output_type": "stream",
     "text": [
      "The autoreload extension is already loaded. To reload it, use:\n",
      "  %reload_ext autoreload\n"
     ]
    },
    {
     "name": "stderr",
     "output_type": "stream",
     "text": [
      "[nltk_data] Downloading package indian to\n",
      "[nltk_data]     /Users/tylercranmer/nltk_data...\n",
      "[nltk_data]   Package indian is already up-to-date!\n"
     ]
    }
   ],
   "source": [
    "from tqdm.autonotebook import tqdm\n",
    "%load_ext autoreload\n",
    "%autoreload 2\n",
    "from hmm import *"
   ]
  },
  {
   "cell_type": "code",
   "execution_count": 4,
   "id": "d8584f91-6b76-48c1-9db7-c748d65d3789",
   "metadata": {},
   "outputs": [],
   "source": [
    "words, tags, observation_dict, state_dict, observation_ids, state_ids = get_hindi_dataset()"
   ]
  },
  {
   "cell_type": "code",
   "execution_count": 5,
   "id": "ae344493-a53b-444d-bcc3-0e12a1c2d27e",
   "metadata": {},
   "outputs": [
    {
     "data": {
      "text/plain": [
       "{'': 0,\n",
       " 'CC': 1,\n",
       " 'INTF': 2,\n",
       " 'JJ': 3,\n",
       " 'JVB': 4,\n",
       " 'NEG': 5,\n",
       " 'NLOC': 6,\n",
       " 'NN': 7,\n",
       " 'NNC': 8,\n",
       " 'NNP': 9,\n",
       " 'NNPC': 10,\n",
       " 'NVB': 11,\n",
       " 'PREP': 12,\n",
       " 'PRP': 13,\n",
       " 'PUNC': 14,\n",
       " 'QF': 15,\n",
       " 'QFNUM': 16,\n",
       " 'QW': 17,\n",
       " 'RB': 18,\n",
       " 'RP': 19,\n",
       " 'SYM': 20,\n",
       " 'VAUX': 21,\n",
       " 'VFM': 22,\n",
       " 'VJJ': 23,\n",
       " 'VNN': 24,\n",
       " 'VRB': 25}"
      ]
     },
     "execution_count": 5,
     "metadata": {},
     "output_type": "execute_result"
    }
   ],
   "source": [
    "state_dict"
   ]
  },
  {
   "cell_type": "code",
   "execution_count": 7,
   "id": "0cdc20d4-e057-428b-b421-675ceb14250a",
   "metadata": {},
   "outputs": [
    {
     "name": "stderr",
     "output_type": "stream",
     "text": [
      "[nltk_data] Downloading package indian to\n",
      "[nltk_data]     /Users/tylercranmer/nltk_data...\n",
      "[nltk_data]   Package indian is already up-to-date!\n"
     ]
    }
   ],
   "source": [
    "    # def decode(self, observation_ids: List[List[int]]) -> List[List[int]]:\n",
    "    #     \"\"\"\n",
    "    #     ENTER CODE HERE: complete the code\n",
    "    #     Viterbi Algorithm: Follow the algorithm in Jim's book:\n",
    "    #     Figure 8.10 at https://web.stanford.edu/~jurafsky/slp3/8.pdf\n",
    "    #     \"\"\"\n",
    "    #     # store the decoded states here\n",
    "    #     all_predictions = []\n",
    "    #     for obs_ids in observation_ids:\n",
    "    #         T = len(obs_ids)  # Sequence length\n",
    "    #         viterbi = np.zeros((self.n, T))  # The viterbi table\n",
    "    #         back_pointer = np.zeros((self.n, T))   # backpointers for each state+sequence id\n",
    "    #         # TODO: Fill the viterbi table, back_pointer. Get the optimal sequence by backtracking\n",
    "    #         ...\n",
    "    #         raise NotImplementedError\n",
    "    #     return all_predictions"
   ]
  },
  {
   "cell_type": "raw",
   "id": "d684ae7b-e1bb-4e80-8130-e8ed376f2680",
   "metadata": {},
   "source": [
    "array([[0., 0., 0.],\n",
    "       [0., 0., 0.]])"
   ]
  },
  {
   "cell_type": "code",
   "execution_count": 13,
   "id": "688ad911-f860-4ffb-8c7c-3815c5629f23",
   "metadata": {},
   "outputs": [
    {
     "data": {
      "text/plain": [
       "array([[0.8, 0. , 0. ],\n",
       "       [0.2, 0. , 0. ]])"
      ]
     },
     "execution_count": 13,
     "metadata": {},
     "output_type": "execute_result"
    }
   ],
   "source": [
    "observation = [1,3,1]\n",
    "pi = [.8, .2]\n",
    "\n",
    "T = 3\n",
    "# (hot,cold)\n",
    "S = 2\n",
    "\n",
    "viterbi = np.zeros((S, T))\n",
    "back_pointer = np.zeros((S, T)) \n",
    "for i, s in enumerate(pi):\n",
    "    viterbi[i][0] = pi[i]\n",
    "viterbi "
   ]
  },
  {
   "cell_type": "code",
   "execution_count": 16,
   "id": "15ccbfd7-44cf-46b4-9c07-bd63e052ea99",
   "metadata": {},
   "outputs": [
    {
     "data": {
      "text/plain": [
       "2"
      ]
     },
     "execution_count": 16,
     "metadata": {},
     "output_type": "execute_result"
    }
   ],
   "source": [
    "viterbi.shape[0]"
   ]
  },
  {
   "cell_type": "code",
   "execution_count": 1,
   "id": "02122854-6d47-4502-8080-088353313587",
   "metadata": {},
   "outputs": [
    {
     "data": {
      "text/plain": [
       "array([3.05902227e-07])"
      ]
     },
     "execution_count": 1,
     "metadata": {},
     "output_type": "execute_result"
    }
   ],
   "source": [
    "import numpy as np\n",
    "\n",
    "# Define the ReLU activation function\n",
    "def relu(x):\n",
    "    return np.maximum(0, x)\n",
    "\n",
    "# Define the sigmoid activation function\n",
    "def sigmoid(x):\n",
    "    return 1 / (1 + np.exp(-x))\n",
    "\n",
    "# Given weights for the network\n",
    "W1 = np.array([[5, 10, -20], [3, -8, 5]])\n",
    "W2 = np.array([[1, -1]])\n",
    "\n",
    "# Given input\n",
    "input_values = np.array([2, 2, 5])\n",
    "\n",
    "# Forward pass through the network\n",
    "# Calculate the input to the hidden layer\n",
    "hidden_input = np.dot(W1, input_values)\n",
    "\n",
    "# Apply ReLU activation function\n",
    "hidden_output = relu(hidden_input)\n",
    "\n",
    "# Calculate the input to the output layer\n",
    "output_input = np.dot(W2, hidden_output)\n",
    "\n",
    "# Apply sigmoid activation function to get the final output\n",
    "output = sigmoid(output_input)\n",
    "\n",
    "output\n"
   ]
  },
  {
   "cell_type": "code",
   "execution_count": 2,
   "id": "ccaa2d65-74ab-4f2f-a762-c3dc6604f3e0",
   "metadata": {},
   "outputs": [
    {
     "data": {
      "text/plain": [
       "array([-15])"
      ]
     },
     "execution_count": 2,
     "metadata": {},
     "output_type": "execute_result"
    }
   ],
   "source": [
    "output_input \n"
   ]
  },
  {
   "cell_type": "code",
   "execution_count": 10,
   "id": "bbb25e5e-010f-470b-9e87-38dd3e473588",
   "metadata": {},
   "outputs": [
    {
     "name": "stdout",
     "output_type": "stream",
     "text": [
      "(3,)\n",
      "(2, 3)\n",
      "(1, 2)\n",
      "(2,)\n"
     ]
    }
   ],
   "source": [
    "print(input_values.shape)\n",
    "print(W1.shape)\n",
    "print(W2.shape)\n",
    "print(hidden_output.shape)"
   ]
  },
  {
   "cell_type": "code",
   "execution_count": 13,
   "id": "29dd753b-5e55-4992-93d9-b646036f1562",
   "metadata": {},
   "outputs": [
    {
     "name": "stdout",
     "output_type": "stream",
     "text": [
      "[2 2 5]\n",
      "[-70  15]\n",
      "[ 0 15]\n",
      "[-15]\n",
      "[3.05902227e-07]\n"
     ]
    }
   ],
   "source": [
    "print(input_values)\n",
    "print(hidden_input)\n",
    "print(hidden_output)\n",
    "print(output_input)\n",
    "print(output)"
   ]
  },
  {
   "cell_type": "code",
   "execution_count": 6,
   "id": "c7e20533-728c-4b9b-a3e3-6b146fd81ed4",
   "metadata": {},
   "outputs": [
    {
     "data": {
      "text/plain": [
       "array([ 0, 15])"
      ]
     },
     "execution_count": 6,
     "metadata": {},
     "output_type": "execute_result"
    }
   ],
   "source": [
    "hidden_output"
   ]
  },
  {
   "cell_type": "code",
   "execution_count": null,
   "id": "023fa193-2f79-4fc7-9175-ecf4125a3dd9",
   "metadata": {},
   "outputs": [],
   "source": []
  }
 ],
 "metadata": {
  "kernelspec": {
   "display_name": "Python 3 (ipykernel)",
   "language": "python",
   "name": "python3"
  },
  "language_info": {
   "codemirror_mode": {
    "name": "ipython",
    "version": 3
   },
   "file_extension": ".py",
   "mimetype": "text/x-python",
   "name": "python",
   "nbconvert_exporter": "python",
   "pygments_lexer": "ipython3",
   "version": "3.11.5"
  }
 },
 "nbformat": 4,
 "nbformat_minor": 5
}
