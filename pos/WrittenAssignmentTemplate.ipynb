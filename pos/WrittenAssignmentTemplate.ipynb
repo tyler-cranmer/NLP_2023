{
 "cells": [
  {
   "cell_type": "markdown",
   "id": "welsh-terrorist",
   "metadata": {},
   "source": [
    "# Assignment Title"
   ]
  },
  {
   "cell_type": "markdown",
   "id": "several-colonial",
   "metadata": {},
   "source": [
    "## Programming Assignment (40 points)"
   ]
  },
  {
   "cell_type": "markdown",
   "id": "unavailable-assault",
   "metadata": {},
   "source": [
    "The programming assignement will be an implementation of the task described in the assignment\n",
    "\n",
    "We will make sure you have enough scaffolding to build the code upon where you would only have to implement the interesting parts of the code\n",
    "\n",
    "### Evaluation\n",
    "The evaluation of the assignment will be done through test scripts that you would need to pass to get the points."
   ]
  },
  {
   "cell_type": "markdown",
   "id": "designed-clarity",
   "metadata": {},
   "source": [
    "## Written Assignment (60 Points)"
   ]
  },
  {
   "cell_type": "markdown",
   "id": "returning-phenomenon",
   "metadata": {},
   "source": [
    "Written assignment tests the understanding of the student for the assignment's task. We have split the writing into sections. You will need to write 1-2 paragraphs describing the sections. Please be concise."
   ]
  },
  {
   "cell_type": "markdown",
   "id": "tamil-brief",
   "metadata": {},
   "source": [
    "### In your own words, describe what the task is (20 points)"
   ]
  },
  {
   "cell_type": "markdown",
   "id": "golden-thunder",
   "metadata": {},
   "source": [
    "HMM PoS was to create the hidden Markov Model fit method and create the Viterbi table for finding the hidden states of the predicted sequence of words. This algorithm was used in Task 2 POS tagging of the Hindi dataset. The goal was to predict the POS tags of each word in the Hindi sentence. This was done by creating a dynamic table that kept tract of the max probability and state of a specific sequence. We also kept tract of the best path for each probability at any given time. \n",
    "\n",
    "CRF\n",
    "\n",
    "The purpose of the crf task was to create a model that predicted the POS of individual words in a sequence. We achieved this by utilizing the HMM POS from section one and generating features like prev word in the sequence. "
   ]
  },
  {
   "cell_type": "markdown",
   "id": "rubber-chambers",
   "metadata": {},
   "source": [
    "### Describe your method for the task (10 points)"
   ]
  },
  {
   "cell_type": "markdown",
   "id": "hungry-multimedia",
   "metadata": {},
   "source": [
    "HMM\n",
    "In order to solve this problem, I utilized the Viterbi algorithm for finding the POS argmax of a given sequence of tokens. We kept track of the sequence by utilizing the back pointers that recorded the sequence that gave the best probability. \n",
    "\n",
    "CRF\n",
    "I created 3 different features for the model to learn. one is the current token, second is the previous token and the third is the current tokens part of speech. These features were taken straight from the book. Lastly we had to build the training loop.\n"
   ]
  },
  {
   "cell_type": "markdown",
   "id": "union-insert",
   "metadata": {},
   "source": [
    "### Experiment Results (10 points)"
   ]
  },
  {
   "cell_type": "markdown",
   "id": "virgin-camel",
   "metadata": {},
   "source": [
    "In all honesty, I didn’t do many experiments for results because the initial set up of generating features took over 15 minutes and then another hour to train the model. I did get to a f1 score of over 95%. Most of my testing was done to make sure the training was correct and didn’t through any errors. "
   ]
  },
  {
   "cell_type": "markdown",
   "id": "steady-kenya",
   "metadata": {},
   "source": [
    "### Discussion (20 points)"
   ]
  },
  {
   "cell_type": "markdown",
   "id": "posted-football",
   "metadata": {},
   "source": [
    "Key takeaway from the assignment. Why is the method good? shortcomings? how would you improve? Additional thoughts?"
   ]
  },
  {
   "cell_type": "markdown",
   "id": "ae6ad874",
   "metadata": {},
   "source": [
    "Overall this was a solid exercise in learning the Viterbi Algorithm and creating a POS prediction model. Some short comings would be that I could have used more features, but in my defense it was difficult dealing with a non English language. With that said, having 3 features generated a f1 score of over 95% . "
   ]
  }
 ],
 "metadata": {
  "kernelspec": {
   "display_name": "Python 3 (ipykernel)",
   "language": "python",
   "name": "python3"
  },
  "language_info": {
   "codemirror_mode": {
    "name": "ipython",
    "version": 3
   },
   "file_extension": ".py",
   "mimetype": "text/x-python",
   "name": "python",
   "nbconvert_exporter": "python",
   "pygments_lexer": "ipython3",
   "version": "3.11.5"
  }
 },
 "nbformat": 4,
 "nbformat_minor": 5
}
